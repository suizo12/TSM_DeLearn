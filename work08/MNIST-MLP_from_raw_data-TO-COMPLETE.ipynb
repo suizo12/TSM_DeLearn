{
 "cells": [
  {
   "cell_type": "markdown",
   "metadata": {},
   "source": [
    "# Multilayer Perceptron from MNIST raw data using Keras\n",
    "\n",
    "This notebook will guide you through the use of the `keras` package to train a multilayer perceptron for handwritten digits classification. You are going to use the `mnist` dataset from LeCun et al. 1998\n",
    "\n",
    "If Keras is not installed: `pip install keras` in your terminal."
   ]
  },
  {
   "cell_type": "markdown",
   "metadata": {},
   "source": [
    "## Loading the packages"
   ]
  },
  {
   "cell_type": "code",
   "execution_count": 45,
   "metadata": {},
   "outputs": [],
   "source": [
    "##############################################\n",
    "#  COMPLETE CODE BELOW WHERE YOU SEE # ...   #\n",
    "##############################################\n",
    "\n",
    "import numpy as np\n",
    "from matplotlib import pyplot as pl\n",
    "\n",
    "# ... import here the different keras libraries you need\n",
    "# MLP\n",
    "from keras.datasets import mnist, cifar10\n",
    "from keras.utils import to_categorical\n",
    "from keras.models import Sequential\n",
    "from keras.layers import Dense\n",
    "from keras.layers import Dropout\n",
    "# CNN\n",
    "from keras.layers import Activation,Conv2D,MaxPooling2D,Flatten\n",
    "\n",
    "import sklearn.metrics as me\n",
    "\n",
    "%matplotlib inline"
   ]
  },
  {
   "cell_type": "markdown",
   "metadata": {},
   "source": [
    "## Loading the raw data\n",
    "Keras provides easy access to different datasets including MNIST. First load the `mnist` dataset and normalize it to be in the range [0, 1]"
   ]
  },
  {
   "cell_type": "code",
   "execution_count": 58,
   "metadata": {},
   "outputs": [
    {
     "name": "stdout",
     "output_type": "stream",
     "text": [
      "50000 train samples\n",
      "10000 test samples\n"
     ]
    }
   ],
   "source": [
    "#(X_train, y_train), (X_test, y_test) = mnist.load_data()\n",
    "#(x_train,y_train),(x_test,y_test) = cifar10.load_data()\n",
    "#features = x_train.shape[1]*x_train.shape[2]*x_train.shape[3]\n",
    "#X_train =  x_train.reshape((x_train.shape[0],features))                     # change the shape towards (60000, 784)\n",
    "#X_test = x_test.reshape((x_test.shape[0],features))                          # idem (10000, 784)\n",
    "X_train = X_train.astype(np.float32,copy=False)                                 # change the type towards float32\n",
    "X_test = X_test.astype(np.float32,copy=False)                                    # idem\n",
    "X_train /= np.max(X_train)                                                                       # normalize the range to be between 0.0 and 1.0\n",
    "X_test /=  np.max(X_test)\n",
    "print(X_train.shape[0], 'train samples')\n",
    "print(X_test.shape[0], 'test samples')"
   ]
  },
  {
   "cell_type": "markdown",
   "metadata": {},
   "source": [
    "The target values of the network are supposed to be 1-hot targets. Now the `y_train` is an array with scalar values as in `[5 0 4 1 ...]` and it should be a 1-hot array `Y_train` as in : \n",
    "\n",
    "`[[0. 0. 0. 0. 0. 1. 0. 0. 0. 0.]\n",
    " [1. 0. 0. 0. 0. 0. 0. 0. 0. 0.]\n",
    " [0. 0. 0. 0. 1. 0. 0. 0. 0. 0.]\n",
    " [0. 1. 0. 0. 0. 0. 0. 0. 0. 0.]...]`\n",
    " \n",
    "Note the change of capital letter in the `Y_train` to denote, per convention, an array with multiple dimensions."
   ]
  },
  {
   "cell_type": "code",
   "execution_count": 59,
   "metadata": {},
   "outputs": [
    {
     "name": "stdout",
     "output_type": "stream",
     "text": [
      "[[0. 0. 0. 0. 0. 0. 1. 0. 0. 0.]\n",
      " [0. 0. 0. 0. 0. 0. 0. 0. 0. 1.]\n",
      " [0. 0. 0. 0. 0. 0. 0. 0. 0. 1.]\n",
      " [0. 0. 0. 0. 1. 0. 0. 0. 0. 0.]\n",
      " [0. 1. 0. 0. 0. 0. 0. 0. 0. 0.]\n",
      " [0. 1. 0. 0. 0. 0. 0. 0. 0. 0.]\n",
      " [0. 0. 1. 0. 0. 0. 0. 0. 0. 0.]\n",
      " [0. 0. 0. 0. 0. 0. 0. 1. 0. 0.]\n",
      " [0. 0. 0. 0. 0. 0. 0. 0. 1. 0.]\n",
      " [0. 0. 0. 1. 0. 0. 0. 0. 0. 0.]]\n"
     ]
    }
   ],
   "source": [
    "n_classes = 10\n",
    "Y_train = to_categorical(y_train, n_classes)                  # modify targets to 1-hot using np_utils.to_categorical()\n",
    "Y_test = to_categorical(y_test, n_classes)                    # idem \n",
    "print(Y_train[:10])"
   ]
  },
  {
   "cell_type": "markdown",
   "metadata": {},
   "source": [
    "## Define the network\n",
    "The neural network will be a Multi-Layer Perceptron in our case. We will train it using H neurons, through E epochs, using batches of size B. We can try with 300 neuros, 10 epochs and batches of 128 images. We will also need to tell Keras what is the size of our inputs, in our case a linearized vector of size D=784."
   ]
  },
  {
   "cell_type": "code",
   "execution_count": 72,
   "metadata": {},
   "outputs": [
    {
     "name": "stdout",
     "output_type": "stream",
     "text": [
      "_________________________________________________________________\n",
      "Layer (type)                 Output Shape              Param #   \n",
      "=================================================================\n",
      "conv2d_9 (Conv2D)            (None, 32, 32, 12)        336       \n",
      "_________________________________________________________________\n",
      "activation_14 (Activation)   (None, 32, 32, 12)        0         \n",
      "_________________________________________________________________\n",
      "max_pooling2d_8 (MaxPooling2 (None, 16, 16, 12)        0         \n",
      "_________________________________________________________________\n",
      "flatten_8 (Flatten)          (None, 3072)              0         \n",
      "_________________________________________________________________\n",
      "dense_53 (Dense)             (None, 10)                30730     \n",
      "_________________________________________________________________\n",
      "activation_15 (Activation)   (None, 10)                0         \n",
      "=================================================================\n",
      "Total params: 31,066\n",
      "Trainable params: 31,066\n",
      "Non-trainable params: 0\n",
      "_________________________________________________________________\n",
      "None\n"
     ]
    }
   ],
   "source": [
    "H = 300         # number of neurons\n",
    "E = 30              # number of epochs\n",
    "B = 128            # batch size\n",
    "D = X_train.shape[1]  # dimension of input sample - 784 for MNIST\n",
    "\n",
    "############### CNN #########################\n",
    "modelCNN = Sequential()\n",
    "modelCNN.add(Conv2D(12,(3,3),padding='same',input_shape=x_train.shape[1:]))\n",
    "modelCNN.add(Activation('relu'))\n",
    "modelCNN.add(MaxPooling2D(pool_size=(2,2)))\n",
    "modelCNN.add(Flatten())\n",
    "modelCNN.add(Dense(n_classes))\n",
    "modelCNN.add(Activation('softmax'))\n",
    "\n",
    "############### MLP #########################\n",
    "#modelMLP = Sequential()\n",
    "#modelMLP.add(Dense(H,input_dim=D,kernel_initializer='uniform',activation='relu'))\n",
    "#modelMLP.add(Dropout(0.2))\n",
    "#modelMLP.add(Dense(100,input_dim=D,kernel_initializer='uniform',activation='relu'))\n",
    "#modelMLP.add(Dense(n_classes,kernel_initializer='uniform',activation='sigmoid'))\n",
    "\n",
    "# ... print model infomration with summary() method\n",
    "print(modelCNN.summary())"
   ]
  },
  {
   "cell_type": "markdown",
   "metadata": {},
   "source": [
    "## Compile and train the network\n",
    "In Keras, we call the methods `compile()` and `fit()`. For the compile phase, we need to specify the **loss** function which should be set in the case of multi-class classification to `categorical_crossentropy`. We also need to specify the optimizer strategy. In this case the `rmsprop` or `adam` can be used."
   ]
  },
  {
   "cell_type": "code",
   "execution_count": 73,
   "metadata": {},
   "outputs": [
    {
     "name": "stdout",
     "output_type": "stream",
     "text": [
      "Train on 50000 samples, validate on 10000 samples\n",
      "Epoch 1/30\n",
      "50000/50000 [==============================] - 12s 248us/step - loss: 1.9862 - acc: 0.2746 - val_loss: 1.8286 - val_acc: 0.3316\n",
      "Epoch 2/30\n",
      "50000/50000 [==============================] - 13s 254us/step - loss: 1.8040 - acc: 0.3525 - val_loss: 1.7110 - val_acc: 0.3801\n",
      "Epoch 3/30\n",
      "50000/50000 [==============================] - 13s 250us/step - loss: 1.7266 - acc: 0.3818 - val_loss: 1.6529 - val_acc: 0.4023\n",
      "Epoch 4/30\n",
      "50000/50000 [==============================] - 12s 246us/step - loss: 1.6769 - acc: 0.4018 - val_loss: 1.6129 - val_acc: 0.4287\n",
      "Epoch 5/30\n",
      "50000/50000 [==============================] - 12s 235us/step - loss: 1.6304 - acc: 0.4176 - val_loss: 1.5586 - val_acc: 0.4475\n",
      "Epoch 6/30\n",
      "50000/50000 [==============================] - 15s 304us/step - loss: 1.6027 - acc: 0.4292 - val_loss: 1.6166 - val_acc: 0.4235\n",
      "Epoch 7/30\n",
      "50000/50000 [==============================] - 12s 247us/step - loss: 1.5745 - acc: 0.4396 - val_loss: 1.5787 - val_acc: 0.4413\n",
      "Epoch 8/30\n",
      "50000/50000 [==============================] - 13s 251us/step - loss: 1.5487 - acc: 0.4465 - val_loss: 1.5752 - val_acc: 0.4311\n",
      "Epoch 9/30\n",
      "50000/50000 [==============================] - 12s 247us/step - loss: 1.5255 - acc: 0.4563 - val_loss: 1.5983 - val_acc: 0.4374\n",
      "Epoch 10/30\n",
      "50000/50000 [==============================] - 12s 242us/step - loss: 1.5088 - acc: 0.4624 - val_loss: 1.4565 - val_acc: 0.4768\n",
      "Epoch 11/30\n",
      "50000/50000 [==============================] - 12s 250us/step - loss: 1.4915 - acc: 0.4668 - val_loss: 1.5803 - val_acc: 0.4476\n",
      "Epoch 12/30\n",
      "50000/50000 [==============================] - 12s 239us/step - loss: 1.4748 - acc: 0.4727 - val_loss: 1.4989 - val_acc: 0.4629\n",
      "Epoch 13/30\n",
      "50000/50000 [==============================] - 13s 256us/step - loss: 1.4612 - acc: 0.4776 - val_loss: 1.4786 - val_acc: 0.4690\n",
      "Epoch 14/30\n",
      "50000/50000 [==============================] - 12s 246us/step - loss: 1.4379 - acc: 0.4831 - val_loss: 1.4476 - val_acc: 0.4846\n",
      "Epoch 15/30\n",
      "50000/50000 [==============================] - 12s 248us/step - loss: 1.4307 - acc: 0.4889 - val_loss: 1.5255 - val_acc: 0.4548\n",
      "Epoch 16/30\n",
      "50000/50000 [==============================] - 12s 246us/step - loss: 1.4182 - acc: 0.4950 - val_loss: 1.4674 - val_acc: 0.4826\n",
      "Epoch 17/30\n",
      "50000/50000 [==============================] - 12s 243us/step - loss: 1.4022 - acc: 0.4980 - val_loss: 1.4839 - val_acc: 0.4675\n",
      "Epoch 18/30\n",
      "50000/50000 [==============================] - 12s 238us/step - loss: 1.3971 - acc: 0.4990 - val_loss: 1.4148 - val_acc: 0.4944\n",
      "Epoch 19/30\n",
      "50000/50000 [==============================] - 13s 259us/step - loss: 1.3878 - acc: 0.5044 - val_loss: 1.4091 - val_acc: 0.4983\n",
      "Epoch 20/30\n",
      "50000/50000 [==============================] - 11s 220us/step - loss: 1.3740 - acc: 0.5076 - val_loss: 1.4255 - val_acc: 0.4917\n",
      "Epoch 21/30\n",
      "50000/50000 [==============================] - 12s 231us/step - loss: 1.3662 - acc: 0.5112 - val_loss: 1.3882 - val_acc: 0.5087\n",
      "Epoch 22/30\n",
      "50000/50000 [==============================] - 12s 231us/step - loss: 1.3553 - acc: 0.5155 - val_loss: 1.4202 - val_acc: 0.4947\n",
      "Epoch 23/30\n",
      "50000/50000 [==============================] - 12s 233us/step - loss: 1.3496 - acc: 0.5188 - val_loss: 1.4603 - val_acc: 0.4809\n",
      "Epoch 24/30\n",
      "50000/50000 [==============================] - 12s 237us/step - loss: 1.3397 - acc: 0.5219 - val_loss: 1.3893 - val_acc: 0.5035\n",
      "Epoch 25/30\n",
      "50000/50000 [==============================] - 13s 259us/step - loss: 1.3384 - acc: 0.5221 - val_loss: 1.4056 - val_acc: 0.5014\n",
      "Epoch 26/30\n",
      "50000/50000 [==============================] - 12s 245us/step - loss: 1.3229 - acc: 0.5269 - val_loss: 1.4066 - val_acc: 0.5005\n",
      "Epoch 27/30\n",
      "50000/50000 [==============================] - 12s 237us/step - loss: 1.3190 - acc: 0.5327 - val_loss: 1.4281 - val_acc: 0.4850\n",
      "Epoch 28/30\n",
      "50000/50000 [==============================] - 12s 245us/step - loss: 1.3182 - acc: 0.5286 - val_loss: 1.3999 - val_acc: 0.5016\n",
      "Epoch 29/30\n",
      "50000/50000 [==============================] - 12s 238us/step - loss: 1.3069 - acc: 0.5304 - val_loss: 1.4220 - val_acc: 0.4865\n",
      "Epoch 30/30\n",
      "50000/50000 [==============================] - 12s 235us/step - loss: 1.3003 - acc: 0.5348 - val_loss: 1.3797 - val_acc: 0.5018\n"
     ]
    }
   ],
   "source": [
    "# ... compile the model with a crossentropy loss, rmsprop optimizer and defining metrics to be stored as history of the training\n",
    "modelMLP.compile(optimizer='rmsprop',loss='categorical_crossentropy',metrics=['accuracy'])\n",
    "# ... call the training with the fit() function giving the tensors as inputs, defining batch size, number of epochs and validation data\n",
    "history = modelMLP.fit(X_train,Y_train,batch_size=B,epochs=E,verbose=1,validation_data=(X_test,Y_test))\n"
   ]
  },
  {
   "cell_type": "markdown",
   "metadata": {},
   "source": [
    "## Evaluate the network\n",
    "\n",
    "We can do this at three levels: (1) plot of the loss during the training phase, (2) overall accuracy evaluation on test set and (3) per class evaluation with confusion matrix on test set.\n",
    "\n",
    "### Loss evolution during training\n",
    "This can be done first looking at the history of the training (output of the `fit()` function)."
   ]
  },
  {
   "cell_type": "code",
   "execution_count": 74,
   "metadata": {
    "scrolled": true
   },
   "outputs": [
    {
     "name": "stdout",
     "output_type": "stream",
     "text": [
      "dict_keys(['val_loss', 'val_acc', 'loss', 'acc'])\n"
     ]
    },
    {
     "data": {
      "image/png": "[encoded data removed]",
      "text/plain": [
       "<Figure size 432x288 with 1 Axes>"
      ]
     },
     "metadata": {},
     "output_type": "display_data"
    }
   ],
   "source": [
    "print(history.history.keys())\n",
    "pl.plot(history.history['loss'], label='Training')\n",
    "pl.plot(history.history['val_loss'], label='Testing')\n",
    "pl.legend()\n",
    "pl.grid()"
   ]
  },
  {
   "cell_type": "markdown",
   "metadata": {},
   "source": [
    "### Model evaluation\n",
    "We can compute the overall performance on test set calling the `evaluate()` function on the model. The function returns the loss and the metrics used to compile the models."
   ]
  },
  {
   "cell_type": "code",
   "execution_count": 75,
   "metadata": {},
   "outputs": [
    {
     "name": "stdout",
     "output_type": "stream",
     "text": [
      "10000/10000 [==============================] - 1s 57us/step\n",
      "Test loss: 1.471424153137207\n",
      "Test accuracy: 0.4874\n"
     ]
    }
   ],
   "source": [
    "loss_test, metric_test = model.evaluate(X_test,Y_test,batch_size=B)\n",
    "print('Test loss:', loss_test)\n",
    "print('Test accuracy:', metric_test)"
   ]
  },
  {
   "cell_type": "markdown",
   "metadata": {},
   "source": [
    "### Confusion matrix\n",
    "We can call the `predict_classes()` function to get the predicted classes. The output of this function is an array with the predicted class labels as in `[5 0 4 1 ...]`. The output array of ground truth `y_test` and the predicted classes can then be fed to the `confusion_matrix()` function of [sklearn metrics package](http://scikit-learn.org/stable/modules/generated/sklearn.metrics.confusion_matrix.html#sklearn.metrics.confusion_matrix)."
   ]
  },
  {
   "cell_type": "code",
   "execution_count": 76,
   "metadata": {},
   "outputs": [
    {
     "name": "stdout",
     "output_type": "stream",
     "text": [
      "10000/10000 [==============================] - 1s 116us/step\n"
     ]
    },
    {
     "data": {
      "text/plain": [
       "array([[532,  57,  40,  30,  26,   4,  29,  16, 239,  27],\n",
       "       [ 23, 716,   8,  28,   9,   7,  25,   7, 114,  63],\n",
       "       [118,  35, 281, 113, 146,  44, 164,  47,  44,   8],\n",
       "       [ 42,  35,  59, 389,  51, 119, 200,  22,  44,  39],\n",
       "       [ 62,  21, 136,  68, 418,  19, 179,  44,  47,   6],\n",
       "       [ 24,  28,  81, 287,  60, 266, 160,  35,  41,  18],\n",
       "       [  6,  22,  56,  89,  93,  14, 689,   8,  14,   9],\n",
       "       [ 49,  40,  55,  95, 103,  54,  75, 453,  38,  38],\n",
       "       [ 69,  72,   6,  23,  13,  13,  26,   7, 747,  24],\n",
       "       [ 36, 271,   7,  52,  12,   7,  35,  26, 171, 383]])"
      ]
     },
     "execution_count": 76,
     "metadata": {},
     "output_type": "execute_result"
    }
   ],
   "source": [
    "pred = model.predict_classes(X_test, verbose=1)\n",
    "me.confusion_matrix(y_test, pred)"
   ]
  },
  {
   "cell_type": "code",
   "execution_count": null,
   "metadata": {},
   "outputs": [],
   "source": []
  }
 ],
 "metadata": {
  "kernelspec": {
   "display_name": "Python 3",
   "language": "python",
   "name": "python3"
  },
  "language_info": {
   "codemirror_mode": {
    "name": "ipython",
    "version": 3
   },
   "file_extension": ".py",
   "mimetype": "text/x-python",
   "name": "python",
   "nbconvert_exporter": "python",
   "pygments_lexer": "ipython3",
   "version": "3.6.5"
  }
 },
 "nbformat": 4,
 "nbformat_minor": 1
}
