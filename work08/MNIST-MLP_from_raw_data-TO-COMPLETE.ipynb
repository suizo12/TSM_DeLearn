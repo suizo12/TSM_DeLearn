{
 "cells": [
  {
   "cell_type": "markdown",
   "metadata": {},
   "source": [
    "# Multilayer Perceptron from MNIST raw data using Keras\n",
    "\n",
    "This notebook will guide you through the use of the `keras` package to train a multilayer perceptron for handwritten digits classification. You are going to use the `mnist` dataset from LeCun et al. 1998\n",
    "\n",
    "If Keras is not installed: `pip install keras` in your terminal."
   ]
  },
  {
   "cell_type": "markdown",
   "metadata": {},
   "source": [
    "## Loading the packages"
   ]
  },
  {
   "cell_type": "code",
   "execution_count": 6,
   "metadata": {},
   "outputs": [],
   "source": [
    "##############################################\n",
    "#  COMPLETE CODE BELOW WHERE YOU SEE # ...   #\n",
    "##############################################\n",
    "\n",
    "import numpy as np\n",
    "from matplotlib import pyplot as pl\n",
    "\n",
    "# ... import here the different keras libraries you need\n",
    "# MLP\n",
    "from keras.datasets import mnist, cifar10\n",
    "from keras.utils import to_categorical\n",
    "from keras.models import Sequential\n",
    "from keras.layers import Dense\n",
    "from keras.layers import Dropout\n",
    "# CNN\n",
    "from keras.layers import Activation,Conv2D,MaxPooling2D,Flatten\n",
    "\n",
    "import sklearn.metrics as me\n",
    "\n",
    "%matplotlib inline"
   ]
  },
  {
   "cell_type": "markdown",
   "metadata": {},
   "source": [
    "## Loading the raw data\n",
    "Keras provides easy access to different datasets including MNIST. First load the `mnist` dataset and normalize it to be in the range [0, 1]"
   ]
  },
  {
   "cell_type": "code",
   "execution_count": 11,
   "metadata": {},
   "outputs": [
    {
     "name": "stdout",
     "output_type": "stream",
     "text": [
      "(60000, 28, 28)\n",
      "(60000, 784) train samples\n",
      "(10000, 784) test samples\n"
     ]
    }
   ],
   "source": [
    "(x_train, y_train), (x_test, y_test) = mnist.load_data()\n",
    "print(x_train.shape)\n",
    "#(x_train,y_train),(x_test,y_test) = cifar10.load_data()\n",
    "features = x_train.shape[2]*x_train.shape[1]\n",
    "X_train =  x_train.reshape((x_train.shape[0],features))                     # change the shape towards (60000, 784)\n",
    "X_test = x_test.reshape((x_test.shape[0],features))                          # idem (10000, 784)\n",
    "X_train = X_train.astype(np.float32,copy=False)                                 # change the type towards float32\n",
    "X_test = X_test.astype(np.float32,copy=False)                                    # idem\n",
    "X_train /= np.max(X_train)                                                                       # normalize the range to be between 0.0 and 1.0\n",
    "X_test /=  np.max(X_test)\n",
    "print(X_train.shape, 'train samples')\n",
    "print(X_test.shape, 'test samples')\n"
   ]
  },
  {
   "cell_type": "markdown",
   "metadata": {},
   "source": [
    "The target values of the network are supposed to be 1-hot targets. Now the `y_train` is an array with scalar values as in `[5 0 4 1 ...]` and it should be a 1-hot array `Y_train` as in : \n",
    "\n",
    "`[[0. 0. 0. 0. 0. 1. 0. 0. 0. 0.]\n",
    " [1. 0. 0. 0. 0. 0. 0. 0. 0. 0.]\n",
    " [0. 0. 0. 0. 1. 0. 0. 0. 0. 0.]\n",
    " [0. 1. 0. 0. 0. 0. 0. 0. 0. 0.]...]`\n",
    " \n",
    "Note the change of capital letter in the `Y_train` to denote, per convention, an array with multiple dimensions."
   ]
  },
  {
   "cell_type": "code",
   "execution_count": 12,
   "metadata": {},
   "outputs": [
    {
     "name": "stdout",
     "output_type": "stream",
     "text": [
      "[[0. 0. 0. 0. 0. 1. 0. 0. 0. 0.]\n",
      " [1. 0. 0. 0. 0. 0. 0. 0. 0. 0.]\n",
      " [0. 0. 0. 0. 1. 0. 0. 0. 0. 0.]\n",
      " [0. 1. 0. 0. 0. 0. 0. 0. 0. 0.]\n",
      " [0. 0. 0. 0. 0. 0. 0. 0. 0. 1.]\n",
      " [0. 0. 1. 0. 0. 0. 0. 0. 0. 0.]\n",
      " [0. 1. 0. 0. 0. 0. 0. 0. 0. 0.]\n",
      " [0. 0. 0. 1. 0. 0. 0. 0. 0. 0.]\n",
      " [0. 1. 0. 0. 0. 0. 0. 0. 0. 0.]\n",
      " [0. 0. 0. 0. 1. 0. 0. 0. 0. 0.]]\n"
     ]
    }
   ],
   "source": [
    "n_classes = 10\n",
    "Y_train = to_categorical(y_train, n_classes)                  # modify targets to 1-hot using np_utils.to_categorical()\n",
    "Y_test = to_categorical(y_test, n_classes)                    # idem \n",
    "print(Y_train[:10])"
   ]
  },
  {
   "cell_type": "markdown",
   "metadata": {},
   "source": [
    "## Define the network\n",
    "The neural network will be a Multi-Layer Perceptron in our case. We will train it using H neurons, through E epochs, using batches of size B. We can try with 300 neuros, 10 epochs and batches of 128 images. We will also need to tell Keras what is the size of our inputs, in our case a linearized vector of size D=784."
   ]
  },
  {
   "cell_type": "code",
   "execution_count": 17,
   "metadata": {},
   "outputs": [
    {
     "name": "stdout",
     "output_type": "stream",
     "text": [
      "_________________________________________________________________\n",
      "Layer (type)                 Output Shape              Param #   \n",
      "=================================================================\n",
      "dense_4 (Dense)              (None, 300)               235500    \n",
      "_________________________________________________________________\n",
      "dropout_2 (Dropout)          (None, 300)               0         \n",
      "_________________________________________________________________\n",
      "dense_5 (Dense)              (None, 100)               30100     \n",
      "_________________________________________________________________\n",
      "dense_6 (Dense)              (None, 10)                1010      \n",
      "=================================================================\n",
      "Total params: 266,610\n",
      "Trainable params: 266,610\n",
      "Non-trainable params: 0\n",
      "_________________________________________________________________\n",
      "None\n"
     ]
    }
   ],
   "source": [
    "H = 300         # number of neurons\n",
    "E = 3              # number of epochs\n",
    "B = 128            # batch size\n",
    "D = X_train.shape[1]  # dimension of input sample - 784 for MNIST\n",
    "\n",
    "############### CNN #########################\n",
    "#modelCNN = Sequential()\n",
    "#modelCNN.add(Conv2D(12,(3,3),padding='same',input_shape=x_train.shape[1:]))\n",
    "#modelCNN.add(Activation('relu'))\n",
    "#modelCNN.add(MaxPooling2D(pool_size=(2,2)))\n",
    "#modelCNN.add(Flatten())\n",
    "#modelCNN.add(Dense(n_classes))\n",
    "#modelCNN.add(Activation('softmax'))\n",
    "\n",
    "############### MLP #########################\n",
    "modelMLP = Sequential()\n",
    "modelMLP.add(Dense(H,input_dim=D,kernel_initializer='uniform',activation='relu'))\n",
    "modelMLP.add(Dropout(0.2))\n",
    "modelMLP.add(Dense(100,input_dim=D,kernel_initializer='uniform',activation='relu'))\n",
    "modelMLP.add(Dense(n_classes,kernel_initializer='uniform',activation='sigmoid'))\n",
    "\n",
    "# ... print model infomration with summary() method\n",
    "print(modelMLP.summary())"
   ]
  },
  {
   "cell_type": "markdown",
   "metadata": {},
   "source": [
    "## Compile and train the network\n",
    "In Keras, we call the methods `compile()` and `fit()`. For the compile phase, we need to specify the **loss** function which should be set in the case of multi-class classification to `categorical_crossentropy`. We also need to specify the optimizer strategy. In this case the `rmsprop` or `adam` can be used."
   ]
  },
  {
   "cell_type": "code",
   "execution_count": 18,
   "metadata": {},
   "outputs": [
    {
     "name": "stdout",
     "output_type": "stream",
     "text": [
      "Train on 60000 samples, validate on 10000 samples\n",
      "Epoch 1/3\n",
      "60000/60000 [==============================] - 5s 86us/step - loss: 0.4311 - acc: 0.8731 - val_loss: 0.2082 - val_acc: 0.9368\n",
      "Epoch 2/3\n",
      "60000/60000 [==============================] - 5s 80us/step - loss: 0.1729 - acc: 0.9485 - val_loss: 0.1254 - val_acc: 0.9625\n",
      "Epoch 3/3\n",
      "60000/60000 [==============================] - 5s 82us/step - loss: 0.1174 - acc: 0.9651 - val_loss: 0.1041 - val_acc: 0.9673\n"
     ]
    }
   ],
   "source": [
    "# ... compile the model with a crossentropy loss, rmsprop optimizer and defining metrics to be stored as history of the training\n",
    "modelMLP.compile(optimizer='rmsprop',loss='categorical_crossentropy',metrics=['accuracy'])\n",
    "# ... call the training with the fit() function giving the tensors as inputs, defining batch size, number of epochs and validation data\n",
    "history = modelMLP.fit(X_train,Y_train,batch_size=B,epochs=E,verbose=1,validation_data=(X_test,Y_test))\n"
   ]
  },
  {
   "cell_type": "markdown",
   "metadata": {},
   "source": [
    "## Evaluate the network\n",
    "\n",
    "We can do this at three levels: (1) plot of the loss during the training phase, (2) overall accuracy evaluation on test set and (3) per class evaluation with confusion matrix on test set.\n",
    "\n",
    "### Loss evolution during training\n",
    "This can be done first looking at the history of the training (output of the `fit()` function)."
   ]
  },
  {
   "cell_type": "code",
   "execution_count": 19,
   "metadata": {
    "scrolled": true
   },
   "outputs": [
    {
     "name": "stdout",
     "output_type": "stream",
     "text": [
      "dict_keys(['val_loss', 'val_acc', 'loss', 'acc'])\n"
     ]
    },
    {
     "data": {
      "image/png": "[encoded data removed]",
      "text/plain": [
       "<Figure size 432x288 with 1 Axes>"
      ]
     },
     "metadata": {},
     "output_type": "display_data"
    }
   ],
   "source": [
    "print(history.history.keys())\n",
    "pl.plot(history.history['loss'], label='Training')\n",
    "pl.plot(history.history['val_loss'], label='Testing')\n",
    "pl.legend()\n",
    "pl.grid()"
   ]
  },
  {
   "cell_type": "markdown",
   "metadata": {},
   "source": [
    "### Model evaluation\n",
    "We can compute the overall performance on test set calling the `evaluate()` function on the model. The function returns the loss and the metrics used to compile the models."
   ]
  },
  {
   "cell_type": "code",
   "execution_count": 21,
   "metadata": {},
   "outputs": [
    {
     "name": "stdout",
     "output_type": "stream",
     "text": [
      "10000/10000 [==============================] - 0s 34us/step\n",
      "Test loss: 0.10407912821471692\n",
      "Test accuracy: 0.9673\n"
     ]
    }
   ],
   "source": [
    "loss_test, metric_test = modelMLP.evaluate(X_test,Y_test,batch_size=B)\n",
    "print('Test loss:', loss_test)\n",
    "print('Test accuracy:', metric_test)"
   ]
  },
  {
   "cell_type": "markdown",
   "metadata": {},
   "source": [
    "### Confusion matrix\n",
    "We can call the `predict_classes()` function to get the predicted classes. The output of this function is an array with the predicted class labels as in `[5 0 4 1 ...]`. The output array of ground truth `y_test` and the predicted classes can then be fed to the `confusion_matrix()` function of [sklearn metrics package](http://scikit-learn.org/stable/modules/generated/sklearn.metrics.confusion_matrix.html#sklearn.metrics.confusion_matrix)."
   ]
  },
  {
   "cell_type": "code",
   "execution_count": 23,
   "metadata": {},
   "outputs": [
    {
     "name": "stdout",
     "output_type": "stream",
     "text": [
      "10000/10000 [==============================] - 1s 83us/step\n"
     ]
    },
    {
     "data": {
      "text/plain": [
       "array([[ 972,    0,    1,    2,    0,    0,    1,    1,    2,    1],\n",
       "       [   0, 1116,    3,    3,    0,    1,    3,    3,    6,    0],\n",
       "       [   6,    1,  998,    9,    5,    0,    3,    7,    3,    0],\n",
       "       [   2,    0,    3,  992,    0,    0,    0,    9,    3,    1],\n",
       "       [   0,    0,    5,    0,  945,    0,    3,    4,    2,   23],\n",
       "       [   2,    2,    0,   49,    3,  799,   10,    4,   14,    9],\n",
       "       [   7,    3,    0,    1,    6,    4,  931,    0,    6,    0],\n",
       "       [   2,    3,    6,    3,    0,    0,    0, 1004,    0,   10],\n",
       "       [   3,    1,    5,   13,    3,    2,    5,    6,  934,    2],\n",
       "       [   3,    3,    0,    8,    6,    0,    0,    6,    1,  982]])"
      ]
     },
     "execution_count": 23,
     "metadata": {},
     "output_type": "execute_result"
    }
   ],
   "source": [
    "pred = modelMLP.predict_classes(X_test, verbose=1)\n",
    "me.confusion_matrix(y_test, pred)"
   ]
  },
  {
   "cell_type": "code",
   "execution_count": null,
   "metadata": {},
   "outputs": [],
   "source": []
  }
 ],
 "metadata": {
  "kernelspec": {
   "display_name": "Python 3",
   "language": "python",
   "name": "python3"
  },
  "language_info": {
   "codemirror_mode": {
    "name": "ipython",
    "version": 3
   },
   "file_extension": ".py",
   "mimetype": "text/x-python",
   "name": "python",
   "nbconvert_exporter": "python",
   "pygments_lexer": "ipython3",
   "version": "3.6.4"
  }
 },
 "nbformat": 4,
 "nbformat_minor": 1
}
