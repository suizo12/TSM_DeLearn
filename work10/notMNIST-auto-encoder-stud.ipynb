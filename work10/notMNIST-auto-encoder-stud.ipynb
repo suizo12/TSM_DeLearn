{
 "cells": [
  {
   "cell_type": "code",
   "execution_count": 1,
   "metadata": {},
   "outputs": [
    {
     "name": "stderr",
     "output_type": "stream",
     "text": [
      "Using TensorFlow backend.\n"
     ]
    }
   ],
   "source": [
    "import os\n",
    "os.environ['CUDA_VISIBLE_DEVICES'] = '3'\n",
    "\n",
    "import tensorflow as tf\n",
    "from keras.backend.tensorflow_backend import set_session\n",
    "config = tf.ConfigProto()\n",
    "config.gpu_options.per_process_gpu_memory_fraction = 0.08\n",
    "set_session(tf.Session(config=config))\n",
    "\n",
    "import keras\n",
    "from matplotlib import pyplot as pl\n",
    "import numpy as np\n",
    "import gzip\n",
    "from keras.models import Sequential\n",
    "from keras.layers import Input, Conv2D, MaxPooling2D, UpSampling2D\n",
    "from keras.layers.core import Dense, Dropout, Flatten, Activation\n",
    "from keras.models import Model\n",
    "from keras.optimizers import RMSprop\n",
    "from keras.utils import np_utils\n",
    "from sklearn.preprocessing import StandardScaler\n",
    "from sklearn.svm import SVC\n",
    "from sklearn import metrics\n",
    "%matplotlib inline"
   ]
  },
  {
   "cell_type": "code",
   "execution_count": 2,
   "metadata": {},
   "outputs": [],
   "source": [
    "def extract_data(filename, num_images):\n",
    "    with gzip.open(filename) as bytestream:\n",
    "        bytestream.read(16)\n",
    "        buf = bytestream.read(28 * 28 * num_images)\n",
    "        data = np.frombuffer(buf, dtype=np.uint8).astype(np.float32)\n",
    "        data = data.reshape(num_images, 28,28)\n",
    "        return data\n",
    "\n",
    "def extract_labels(filename, num_images):\n",
    "    with gzip.open(filename) as bytestream:\n",
    "        bytestream.read(8)\n",
    "        buf = bytestream.read(1 * num_images)\n",
    "        labels = np.frombuffer(buf, dtype=np.uint8).astype(np.int64)\n",
    "        return labels\n",
    "\n",
    "# Create dictionary of target classes\n",
    "label_dict = {\n",
    " 0: 'A',\n",
    " 1: 'B',\n",
    " 2: 'C',\n",
    " 3: 'D',\n",
    " 4: 'E',\n",
    " 5: 'F',\n",
    " 6: 'G',\n",
    " 7: 'H',\n",
    " 8: 'I',\n",
    " 9: 'J',\n",
    "}"
   ]
  },
  {
   "cell_type": "code",
   "execution_count": 3,
   "metadata": {},
   "outputs": [
    {
     "name": "stdout",
     "output_type": "stream",
     "text": [
      "[[0. 0. 0. 0. 0. 1. 0. 0. 0. 0.]\n",
      " [0. 0. 0. 0. 0. 0. 0. 0. 1. 0.]\n",
      " [0. 0. 0. 0. 0. 0. 0. 0. 1. 0.]\n",
      " [0. 0. 0. 0. 0. 0. 1. 0. 0. 0.]\n",
      " [0. 0. 0. 1. 0. 0. 0. 0. 0. 0.]\n",
      " [1. 0. 0. 0. 0. 0. 0. 0. 0. 0.]\n",
      " [0. 0. 0. 0. 0. 0. 0. 0. 1. 0.]\n",
      " [1. 0. 0. 0. 0. 0. 0. 0. 0. 0.]\n",
      " [0. 1. 0. 0. 0. 0. 0. 0. 0. 0.]\n",
      " [0. 0. 0. 0. 0. 1. 0. 0. 0. 0.]]\n"
     ]
    }
   ],
   "source": [
    "train_data = extract_data('train-images-idx3-ubyte.gz', 60000)\n",
    "test_data = extract_data('t10k-images-idx3-ubyte.gz', 10000)\n",
    "\n",
    "train_labels = extract_labels('train-labels-idx1-ubyte.gz',60000)\n",
    "test_labels = extract_labels('t10k-labels-idx1-ubyte.gz',10000)\n",
    "\n",
    "X_train = train_data.reshape(-1, 28,28, 1)  # add grey channel\n",
    "X_test = test_data.reshape(-1, 28,28, 1)\n",
    "\n",
    "n_classes = 10\n",
    "Y_train = np_utils.to_categorical(train_labels, n_classes) # 1-hot\n",
    "Y_test = np_utils.to_categorical(test_labels, n_classes)\n",
    "print(Y_train[:10])"
   ]
  },
  {
   "cell_type": "code",
   "execution_count": 4,
   "metadata": {},
   "outputs": [
    {
     "name": "stdout",
     "output_type": "stream",
     "text": [
      "Training set (images) shape: (60000, 28, 28, 1)\n",
      "Test set (images) shape: (10000, 28, 28, 1)\n",
      "data type:  float32 float32\n"
     ]
    }
   ],
   "source": [
    "# Shape of training set\n",
    "print(\"Training set (images) shape: {shape}\".format(shape=X_train.shape))\n",
    "# Shape of test set\n",
    "print(\"Test set (images) shape: {shape}\".format(shape=X_test.shape))\n",
    "# Type of data - should be float32\n",
    "print('data type: ', X_train.dtype, X_test.dtype)"
   ]
  },
  {
   "cell_type": "code",
   "execution_count": 5,
   "metadata": {},
   "outputs": [
    {
     "data": {
      "text/plain": [
       "Text(0.5, 1.0, '(Label: D)')"
      ]
     },
     "execution_count": 5,
     "metadata": {},
     "output_type": "execute_result"
    },
    {
     "data": {
      "image/png": "[encoded data removed]",
      "text/plain": [
       "<Figure size 432x288 with 2 Axes>"
      ]
     },
     "metadata": {
      "needs_background": "light"
     },
     "output_type": "display_data"
    }
   ],
   "source": [
    "# Display the first image in training data\n",
    "pl.subplot(121)\n",
    "curr_img = np.reshape(X_train[0], (28,28))\n",
    "curr_lbl = train_labels[0]\n",
    "pl.imshow(curr_img, cmap='gray')\n",
    "pl.title(\"(Label: \" + str(label_dict[curr_lbl]) + \")\")\n",
    "\n",
    "# Display the first image in testing data\n",
    "pl.subplot(122)\n",
    "curr_img = np.reshape(X_test[0], (28,28))\n",
    "curr_lbl = test_labels[0]\n",
    "pl.imshow(curr_img, cmap='gray')\n",
    "pl.title(\"(Label: \" + str(label_dict[curr_lbl]) + \")\")"
   ]
  },
  {
   "cell_type": "code",
   "execution_count": 6,
   "metadata": {},
   "outputs": [],
   "source": [
    "# rescale the data in range 0-1\n",
    "X_train = X_train / 255.0\n",
    "X_test = X_test / 255.0"
   ]
  },
  {
   "cell_type": "markdown",
   "metadata": {},
   "source": [
    "## Create a shallow MLP encoder"
   ]
  },
  {
   "cell_type": "code",
   "execution_count": 7,
   "metadata": {},
   "outputs": [],
   "source": [
    "# STARTING FROM HERE, COMPLETE THE CODE WHERE YOU SEE ...\n",
    "# size of our encoded representation\n",
    "encoding_dim = 32  # this is the number of neurons you chose to encode\n",
    "\n",
    "# define input layer, encoded layer and decoded layer\n",
    "input_img = Input(shape=(784,))\n",
    "encoded = Dense(encoding_dim,activation='relu')(input_img)\n",
    "decoded = Dense(784,activation='sigmoid')(encoded)\n",
    "\n",
    "# define autoencoder model \n",
    "autoencoder = Model(inputs=input_img,outputs=decoded)\n",
    "encoder = Model(inputs=input_img,outputs=encoded)\n",
    "\n",
    "# create a placeholder for an encoded (32-dimensional) input\n",
    "encoded_input = Input(shape=(encoding_dim,))\n",
    "\n",
    "# retrieve the last layer of the autoencoder model\n",
    "decoder_layer = autoencoder.layers[-1]\n",
    "\n",
    "# create the decoder model\n",
    "decoder = Model(inputs=encoded_input,outputs=decoder_layer(encoded_input))"
   ]
  },
  {
   "cell_type": "code",
   "execution_count": 8,
   "metadata": {},
   "outputs": [],
   "source": [
    "# compile the network\n",
    "autoencoder.compile(optimizer='rmsprop',loss='mean_squared_error',metrics=['accuracy'])"
   ]
  },
  {
   "cell_type": "code",
   "execution_count": 9,
   "metadata": {},
   "outputs": [],
   "source": [
    "# for visualiztion\n",
    "def plot_result(x_test,decoded_imgs):\n",
    "    n = 10\n",
    "    pl.figure(figsize=(20, 4))\n",
    "    for i in range(n):\n",
    "        # display original\n",
    "        ax = pl.subplot(2, n, i + 1)\n",
    "        pl.imshow(x_test[i].reshape(28, 28))\n",
    "        pl.gray()\n",
    "        ax.get_xaxis().set_visible(False)\n",
    "        ax.get_yaxis().set_visible(False)\n",
    "\n",
    "        # display reconstruction\n",
    "        ax = pl.subplot(2, n, i + 1 + n)\n",
    "        pl.imshow(decoded_imgs[i].reshape(28, 28))\n",
    "        pl.gray()\n",
    "        ax.get_xaxis().set_visible(False)\n",
    "        ax.get_yaxis().set_visible(False)\n",
    "    pl.show()"
   ]
  },
  {
   "cell_type": "code",
   "execution_count": 10,
   "metadata": {},
   "outputs": [],
   "source": [
    "X_train_flat = X_train.reshape(60000,784)\n",
    "X_test_flat = X_test.reshape(10000,784)"
   ]
  },
  {
   "cell_type": "code",
   "execution_count": 11,
   "metadata": {
    "scrolled": true
   },
   "outputs": [
    {
     "name": "stdout",
     "output_type": "stream",
     "text": [
      "Train on 60000 samples, validate on 10000 samples\n",
      "Epoch 1/15\n",
      "60000/60000 [==============================] - 4s 75us/step - loss: 0.1033 - acc: 0.0012 - val_loss: 0.0628 - val_acc: 0.0011\n",
      "Epoch 2/15\n",
      "60000/60000 [==============================] - 1s 21us/step - loss: 0.0603 - acc: 0.0017 - val_loss: 0.0479 - val_acc: 0.0017\n",
      "Epoch 3/15\n",
      "60000/60000 [==============================] - 1s 21us/step - loss: 0.0496 - acc: 0.0013 - val_loss: 0.0417 - val_acc: 0.0012\n",
      "Epoch 4/15\n",
      "60000/60000 [==============================] - 1s 20us/step - loss: 0.0439 - acc: 0.0011 - val_loss: 0.0374 - val_acc: 0.0014\n",
      "Epoch 5/15\n",
      "60000/60000 [==============================] - 1s 19us/step - loss: 0.0405 - acc: 0.0013 - val_loss: 0.0333 - val_acc: 0.0011\n",
      "Epoch 6/15\n",
      "60000/60000 [==============================] - 1s 20us/step - loss: 0.0382 - acc: 0.0015 - val_loss: 0.0340 - val_acc: 0.0012\n",
      "Epoch 7/15\n",
      "60000/60000 [==============================] - 1s 20us/step - loss: 0.0366 - acc: 0.0018 - val_loss: 0.0300 - val_acc: 0.0016\n",
      "Epoch 8/15\n",
      "60000/60000 [==============================] - 1s 21us/step - loss: 0.0353 - acc: 0.0017 - val_loss: 0.0297 - val_acc: 0.0022\n",
      "Epoch 9/15\n",
      "60000/60000 [==============================] - 1s 23us/step - loss: 0.0343 - acc: 0.0019 - val_loss: 0.0298 - val_acc: 0.0019\n",
      "Epoch 10/15\n",
      "60000/60000 [==============================] - 2s 25us/step - loss: 0.0335 - acc: 0.0019 - val_loss: 0.0285 - val_acc: 0.0025\n",
      "Epoch 11/15\n",
      "60000/60000 [==============================] - 1s 21us/step - loss: 0.0328 - acc: 0.0018 - val_loss: 0.0270 - val_acc: 0.0024\n",
      "Epoch 12/15\n",
      "60000/60000 [==============================] - 1s 20us/step - loss: 0.0322 - acc: 0.0018 - val_loss: 0.0282 - val_acc: 0.0017\n",
      "Epoch 13/15\n",
      "60000/60000 [==============================] - 1s 20us/step - loss: 0.0318 - acc: 0.0019 - val_loss: 0.0277 - val_acc: 0.0019\n",
      "Epoch 14/15\n",
      "60000/60000 [==============================] - 1s 20us/step - loss: 0.0314 - acc: 0.0019 - val_loss: 0.0259 - val_acc: 0.0020\n",
      "Epoch 15/15\n",
      "60000/60000 [==============================] - 1s 22us/step - loss: 0.0310 - acc: 0.0018 - val_loss: 0.0275 - val_acc: 0.0019\n"
     ]
    }
   ],
   "source": [
    "# train the network\n",
    "B=256\n",
    "E=15\n",
    "log = autoencoder.fit(X_train_flat,X_train_flat,batch_size=B,epochs=E,verbose=1,validation_data=(X_test_flat,X_test_flat))"
   ]
  },
  {
   "cell_type": "code",
   "execution_count": 12,
   "metadata": {},
   "outputs": [
    {
     "data": {
      "image/png": "[encoded data removed]",
      "text/plain": [
       "<Figure size 432x288 with 1 Axes>"
      ]
     },
     "metadata": {
      "needs_background": "light"
     },
     "output_type": "display_data"
    }
   ],
   "source": [
    "pl.plot(log.history['loss'], label='Training')\n",
    "pl.plot(log.history['val_loss'], label='Testing')\n",
    "pl.legend()\n",
    "pl.grid()"
   ]
  },
  {
   "cell_type": "code",
   "execution_count": 13,
   "metadata": {},
   "outputs": [
    {
     "data": {
      "image/png": "[encoded data removed]",
      "text/plain": [
       "<Figure size 1440x288 with 20 Axes>"
      ]
     },
     "metadata": {
      "needs_background": "light"
     },
     "output_type": "display_data"
    }
   ],
   "source": [
    "# encode and decode some digits\n",
    "# note that we take them from the *test* set\n",
    "encoded_imgs = encoder.predict(X_test_flat)\n",
    "decoded_imgs = decoder.predict(encoded_imgs)\n",
    "plot_result(X_test_flat,decoded_imgs)"
   ]
  },
  {
   "cell_type": "markdown",
   "metadata": {},
   "source": [
    "### Use the encoded features to train another classifier"
   ]
  },
  {
   "cell_type": "code",
   "execution_count": 14,
   "metadata": {},
   "outputs": [
    {
     "name": "stdout",
     "output_type": "stream",
     "text": [
      "(60000, 32)\n",
      "(60000, 10)\n",
      "(10000, 32)\n",
      "(10000, 10)\n"
     ]
    }
   ],
   "source": [
    "X_train_feat = encoder.predict(X_train_flat)\n",
    "X_test_feat = encoder.predict(X_test_flat)\n",
    "\n",
    "# Normalization (standardization) of training and test sets\n",
    "scaler = StandardScaler()  \n",
    "scaler.fit(X_train_feat)\n",
    "X_train_feat = scaler.transform(X_train_feat)  \n",
    "X_test_feat = scaler.transform(X_test_feat)\n",
    "\n",
    "print(X_train_feat.shape)\n",
    "print(Y_train.shape)\n",
    "print(X_test_feat.shape)\n",
    "print(Y_test.shape)"
   ]
  },
  {
   "cell_type": "code",
   "execution_count": 15,
   "metadata": {},
   "outputs": [
    {
     "data": {
      "text/plain": [
       "SVC(C=1.0, cache_size=7000, class_weight=None, coef0=0.0,\n",
       "  decision_function_shape='ovr', degree=3, gamma='auto', kernel='linear',\n",
       "  max_iter=-1, probability=False, random_state=None, shrinking=True,\n",
       "  tol=0.001, verbose=False)"
      ]
     },
     "execution_count": 15,
     "metadata": {},
     "output_type": "execute_result"
    }
   ],
   "source": [
    "# using the features\n",
    "clf = SVC(kernel='linear', cache_size=7000)\n",
    "clf.fit(X_train_feat, train_labels)"
   ]
  },
  {
   "cell_type": "code",
   "execution_count": 16,
   "metadata": {},
   "outputs": [
    {
     "name": "stdout",
     "output_type": "stream",
     "text": [
      "Classification report for classifier SVC(C=1.0, cache_size=7000, class_weight=None, coef0=0.0,\n",
      "  decision_function_shape='ovr', degree=3, gamma='auto', kernel='linear',\n",
      "  max_iter=-1, probability=False, random_state=None, shrinking=True,\n",
      "  tol=0.001, verbose=False):\n",
      "             precision    recall  f1-score   support\n",
      "\n",
      "          0       0.90      0.90      0.90      1000\n",
      "          1       0.90      0.87      0.88      1000\n",
      "          2       0.91      0.92      0.91      1000\n",
      "          3       0.91      0.90      0.91      1000\n",
      "          4       0.91      0.88      0.90      1000\n",
      "          5       0.91      0.93      0.92      1000\n",
      "          6       0.88      0.88      0.88      1000\n",
      "          7       0.90      0.89      0.89      1000\n",
      "          8       0.87      0.86      0.86      1000\n",
      "          9       0.85      0.93      0.89      1000\n",
      "\n",
      "avg / total       0.90      0.90      0.90     10000\n",
      "\n",
      "\n"
     ]
    }
   ],
   "source": [
    "y_pred = clf.predict(X_test_feat)\n",
    "\n",
    "# Print classification results with confusion matrix\n",
    "print(\"Classification report for classifier %s:\\n%s\\n\" %\n",
    "      (clf, metrics.classification_report(test_labels, y_pred)))\n",
    "# print(\"\\nConfusion matrix:\\n%s\" % metrics.confusion_matrix(test_labels, y_pred))"
   ]
  },
  {
   "cell_type": "markdown",
   "metadata": {},
   "source": [
    "## Create a conv autoencoder"
   ]
  },
  {
   "cell_type": "code",
   "execution_count": 17,
   "metadata": {},
   "outputs": [
    {
     "name": "stdout",
     "output_type": "stream",
     "text": [
      "_________________________________________________________________\n",
      "Layer (type)                 Output Shape              Param #   \n",
      "=================================================================\n",
      "input_3 (InputLayer)         (None, 28, 28, 1)         0         \n",
      "_________________________________________________________________\n",
      "conv2d_1 (Conv2D)            (None, 28, 28, 32)        320       \n",
      "_________________________________________________________________\n",
      "max_pooling2d_1 (MaxPooling2 (None, 14, 14, 32)        0         \n",
      "_________________________________________________________________\n",
      "conv2d_2 (Conv2D)            (None, 14, 14, 64)        18496     \n",
      "_________________________________________________________________\n",
      "max_pooling2d_2 (MaxPooling2 (None, 7, 7, 64)          0         \n",
      "_________________________________________________________________\n",
      "conv2d_3 (Conv2D)            (None, 7, 7, 128)         73856     \n",
      "_________________________________________________________________\n",
      "conv2d_4 (Conv2D)            (None, 7, 7, 128)         147584    \n",
      "_________________________________________________________________\n",
      "up_sampling2d_1 (UpSampling2 (None, 14, 14, 128)       0         \n",
      "_________________________________________________________________\n",
      "conv2d_5 (Conv2D)            (None, 14, 14, 64)        73792     \n",
      "_________________________________________________________________\n",
      "up_sampling2d_2 (UpSampling2 (None, 28, 28, 64)        0         \n",
      "_________________________________________________________________\n",
      "conv2d_6 (Conv2D)            (None, 28, 28, 1)         577       \n",
      "=================================================================\n",
      "Total params: 314,625\n",
      "Trainable params: 314,625\n",
      "Non-trainable params: 0\n",
      "_________________________________________________________________\n"
     ]
    }
   ],
   "source": [
    "input_img = Input(shape=X_train.shape[1:])\n",
    "# encoder\n",
    "conv1 = Conv2D(32,kernel_size=3,activation='relu',padding='same')(input_img) #28 x 28 x 32\n",
    "pool1 = MaxPooling2D(pool_size=(2,2))(conv1) #14 x 14 x 32\n",
    "conv2 = Conv2D(64,kernel_size=3,activation='relu',padding='same')(pool1) #14 x 14 x 64\n",
    "pool2 = MaxPooling2D(pool_size=(2,2))(conv2)  #7 x 7 x 64\n",
    "conv3 = Conv2D(128,kernel_size=3,activation='relu',padding='same')(pool2) #7 x 7 x 128 (small and thick)\n",
    "# decoder\n",
    "conv4 = Conv2D(128,kernel_size=3,activation='relu',padding='same')(conv3) #7 x 7 x 128\n",
    "up1 =  UpSampling2D(size=(2,2))(conv4) # 14 x 14 x 128 (UpSampling2D())\n",
    "conv5 = Conv2D(64,kernel_size=3,activation='relu',padding='same')(up1) # 14 x 14 x 64\n",
    "up2 = UpSampling2D(size=(2,2))(conv5) # 28 x 28 x 64\n",
    "decoded = Conv2D(1,kernel_size=3,activation='relu',padding='same')(up2) # 28 x 28 x 1\n",
    "# autoencoder\n",
    "autoencoder = Model(inputs=input_img, outputs=decoded)\n",
    "autoencoder.compile(optimizer='rmsprop',loss='mean_squared_error',metrics=['accuracy'])\n",
    "autoencoder.summary()"
   ]
  },
  {
   "cell_type": "code",
   "execution_count": 18,
   "metadata": {},
   "outputs": [
    {
     "name": "stdout",
     "output_type": "stream",
     "text": [
      "Train on 60000 samples, validate on 10000 samples\n",
      "Epoch 1/15\n",
      "60000/60000 [==============================] - 16s 272us/step - loss: 0.0504 - acc: 0.5735 - val_loss: 0.0199 - val_acc: 0.6097\n",
      "Epoch 2/15\n",
      "60000/60000 [==============================] - 14s 226us/step - loss: 0.0122 - acc: 0.5943 - val_loss: 0.0068 - val_acc: 0.6103\n",
      "Epoch 3/15\n",
      "60000/60000 [==============================] - 14s 226us/step - loss: 0.0081 - acc: 0.5948 - val_loss: 0.0061 - val_acc: 0.6106\n",
      "Epoch 4/15\n",
      "60000/60000 [==============================] - 14s 226us/step - loss: 0.0063 - acc: 0.5950 - val_loss: 0.0050 - val_acc: 0.6106\n",
      "Epoch 5/15\n",
      "60000/60000 [==============================] - 14s 226us/step - loss: 0.0053 - acc: 0.5951 - val_loss: 0.0041 - val_acc: 0.6108\n",
      "Epoch 6/15\n",
      "60000/60000 [==============================] - 14s 225us/step - loss: 0.0046 - acc: 0.5952 - val_loss: 0.0030 - val_acc: 0.6108\n",
      "Epoch 7/15\n",
      "60000/60000 [==============================] - 14s 226us/step - loss: 0.0042 - acc: 0.5952 - val_loss: 0.0034 - val_acc: 0.6108\n",
      "Epoch 8/15\n",
      "60000/60000 [==============================] - 14s 227us/step - loss: 0.0039 - acc: 0.5953 - val_loss: 0.0037 - val_acc: 0.6108\n",
      "Epoch 9/15\n",
      "60000/60000 [==============================] - 13s 224us/step - loss: 0.0036 - acc: 0.5953 - val_loss: 0.0026 - val_acc: 0.6108\n",
      "Epoch 10/15\n",
      "60000/60000 [==============================] - 13s 224us/step - loss: 0.0034 - acc: 0.5953 - val_loss: 0.0023 - val_acc: 0.6108\n",
      "Epoch 11/15\n",
      "60000/60000 [==============================] - 13s 224us/step - loss: 0.0032 - acc: 0.5953 - val_loss: 0.0026 - val_acc: 0.6108\n",
      "Epoch 12/15\n",
      "60000/60000 [==============================] - 13s 223us/step - loss: 0.0031 - acc: 0.5953 - val_loss: 0.0024 - val_acc: 0.6108\n",
      "Epoch 13/15\n",
      "60000/60000 [==============================] - 13s 225us/step - loss: 0.0030 - acc: 0.5953 - val_loss: 0.0027 - val_acc: 0.6108\n",
      "Epoch 14/15\n",
      "60000/60000 [==============================] - 13s 224us/step - loss: 0.0029 - acc: 0.5953 - val_loss: 0.0026 - val_acc: 0.6108\n",
      "Epoch 15/15\n",
      "60000/60000 [==============================] - 13s 223us/step - loss: 0.0029 - acc: 0.5953 - val_loss: 0.0017 - val_acc: 0.6108\n"
     ]
    }
   ],
   "source": [
    "log = autoencoder.fit(X_train,X_train,batch_size=128,epochs=15,verbose=1,validation_data=(X_test,X_test))"
   ]
  },
  {
   "cell_type": "markdown",
   "metadata": {},
   "source": [
    "### Predict on test data"
   ]
  },
  {
   "cell_type": "code",
   "execution_count": 19,
   "metadata": {},
   "outputs": [
    {
     "name": "stdout",
     "output_type": "stream",
     "text": [
      "10000/10000 [==============================] - 2s 157us/step\n",
      "(10000, 28, 28, 1)\n"
     ]
    }
   ],
   "source": [
    "decoded_imgs = autoencoder.predict(X_test, verbose=1)\n",
    "print(decoded_imgs.shape)"
   ]
  },
  {
   "cell_type": "code",
   "execution_count": 20,
   "metadata": {},
   "outputs": [
    {
     "data": {
      "image/png": "[encoded data removed]",
      "text/plain": [
       "<Figure size 1440x288 with 20 Axes>"
      ]
     },
     "metadata": {
      "needs_background": "light"
     },
     "output_type": "display_data"
    }
   ],
   "source": [
    "plot_result(X_test_flat,decoded_imgs)"
   ]
  },
  {
   "cell_type": "markdown",
   "metadata": {},
   "source": [
    "## Denoising autoencoder\n",
    "First add some noise."
   ]
  },
  {
   "cell_type": "code",
   "execution_count": null,
   "metadata": {},
   "outputs": [],
   "source": [
    "noise_factor = 0.4 #chose a noise factor between 0.0 and 1.0\n",
    "X_train_noisy = X_train + noise_factor * np.random.normal(loc=0.0, scale=1.0, size=X_train.shape)\n",
    "X_test_noisy = X_test + noise_factor * np.random.normal(loc=0.0, scale=1.0, size=X_test.shape)\n",
    "X_train_noisy = np.clip(X_train_noisy, 0., 1.)\n",
    "X_test_noisy = np.clip(X_test_noisy, 0., 1.)"
   ]
  },
  {
   "cell_type": "code",
   "execution_count": null,
   "metadata": {},
   "outputs": [],
   "source": [
    "pl.figure(figsize=[5,5])\n",
    "\n",
    "# Display the first image in training data\n",
    "pl.subplot(121)\n",
    "curr_img = np.reshape(X_train_noisy[1], (28,28))\n",
    "pl.imshow(curr_img, cmap='gray')\n",
    "\n",
    "# Display the first image in testing data\n",
    "pl.subplot(122)\n",
    "curr_img = np.reshape(X_test_noisy[1], (28,28))\n",
    "pl.imshow(curr_img, cmap='gray')"
   ]
  },
  {
   "cell_type": "code",
   "execution_count": null,
   "metadata": {},
   "outputs": [],
   "source": [
    "# REDEFINE HERE A CONV AUTOENCODER FOR THE DENOISING WITH A SIMILAR ARCHITECTURE\n",
    "input_img = Input(shape=X_train.shape[1:])\n",
    "# encoder\n",
    "conv1 = Conv2D(32,kernel_size=3,activation='relu',padding='same')(input_img) #28 x 28 x 32\n",
    "pool1 = MaxPooling2D(pool_size=(2,2))(conv1) #14 x 14 x 32\n",
    "conv2 = Conv2D(64,kernel_size=3,activation='relu',padding='same')(pool1) #14 x 14 x 64\n",
    "pool2 = MaxPooling2D(pool_size=(2,2))(conv2)  #7 x 7 x 64\n",
    "conv3 = Conv2D(128,kernel_size=3,activation='relu',padding='same')(pool2) #7 x 7 x 128 (small and thick)\n",
    "# decoder\n",
    "conv4 = Conv2D(128,kernel_size=3,activation='relu',padding='same')(conv3) #7 x 7 x 128\n",
    "up1 =  UpSampling2D(size=(2,2))(conv4) # 14 x 14 x 128 (UpSampling2D())\n",
    "conv5 = Conv2D(64,kernel_size=3,activation='relu',padding='same')(up1) # 14 x 14 x 64\n",
    "up2 = UpSampling2D(size=(2,2))(conv5) # 28 x 28 x 64\n",
    "decoded = Conv2D(1,kernel_size=3,activation='relu',padding='same')(up2) # 28 x 28 x 1\n",
    "# autoencoder\n",
    "autoencoder = Model(inputs=input_img, outputs=decoded)\n",
    "autoencoder.compile(optimizer='rmsprop',loss='mean_squared_error',metrics=['accuracy'])\n",
    "autoencoder.summary()"
   ]
  },
  {
   "cell_type": "code",
   "execution_count": null,
   "metadata": {},
   "outputs": [],
   "source": [
    "# train on the noisy images and use as target the original clean images\n",
    "log = autoencoder.fit(X_train_noisy, X_train, batch_size=128, epochs=1,\n",
    "                        verbose=1, validation_data=(X_test_noisy, X_test))"
   ]
  },
  {
   "cell_type": "code",
   "execution_count": null,
   "metadata": {},
   "outputs": [],
   "source": [
    "decoded_imgs = autoencoder.predict(X_test_noisy, verbose=1)\n",
    "print(decoded_imgs.shape)"
   ]
  },
  {
   "cell_type": "code",
   "execution_count": null,
   "metadata": {},
   "outputs": [],
   "source": [
    "plot_result(X_test_noisy,decoded_imgs)"
   ]
  }
 ],
 "metadata": {
  "kernelspec": {
   "display_name": "Python 3",
   "language": "python",
   "name": "python3"
  },
  "language_info": {
   "codemirror_mode": {
    "name": "ipython",
    "version": 3
   },
   "file_extension": ".py",
   "mimetype": "text/x-python",
   "name": "python",
   "nbconvert_exporter": "python",
   "pygments_lexer": "ipython3",
   "version": "3.5.2"
  }
 },
 "nbformat": 4,
 "nbformat_minor": 2
}
