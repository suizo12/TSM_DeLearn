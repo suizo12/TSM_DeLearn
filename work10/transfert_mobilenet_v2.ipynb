{
 "cells": [
  {
   "cell_type": "code",
   "execution_count": 1,
   "metadata": {},
   "outputs": [
    {
     "name": "stderr",
     "output_type": "stream",
     "text": [
      "Using TensorFlow backend.\n"
     ]
    }
   ],
   "source": [
    "import keras\n",
    "from keras.datasets import cifar10\n",
    "import numpy as np\n",
    "from keras.applications.mobilenet_v2 import MobileNetV2, preprocess_input\n",
    "from keras.layers.core import Dense, Dropout, Flatten, Activation\n",
    "from keras.layers import Conv2D, MaxPooling2D, BatchNormalization\n",
    "from keras.models import Sequential\n",
    "import scipy\n",
    "from scipy import misc\n",
    "import skimage\n",
    "from skimage import transform\n",
    "import os"
   ]
  },
  {
   "cell_type": "code",
   "execution_count": 2,
   "metadata": {},
   "outputs": [
    {
     "name": "stdout",
     "output_type": "stream",
     "text": [
      "data loaded\n"
     ]
    }
   ],
   "source": [
    "shape = (96, 96, 3)\n",
    "\n",
    "(x_train, y_train), (x_test, y_test) = cifar10.load_data()\n",
    "y_train = np.squeeze(y_train) #get (50000, ) instead of (50000, 1)\n",
    "print('data loaded')"
   ]
  },
  {
   "cell_type": "code",
   "execution_count": 3,
   "metadata": {},
   "outputs": [
    {
     "name": "stdout",
     "output_type": "stream",
     "text": [
      "model loaded\n"
     ]
    }
   ],
   "source": [
    "model = MobileNetV2(weights='imagenet', include_top=False,\n",
    "                   input_shape=shape)\n",
    "print('model loaded')"
   ]
  },
  {
   "cell_type": "code",
   "execution_count": 4,
   "metadata": {},
   "outputs": [
    {
     "name": "stdout",
     "output_type": "stream",
     "text": [
      "features detected (train)\n",
      "features ready (train)\n",
      "(50000, 3, 3, 1280)\n"
     ]
    }
   ],
   "source": [
    "path = '/home/bkuehnis/Documents/'\n",
    "filename = 'mnv2_fatures_train.npz'\n",
    "#optain train features, read from file if already gotten\n",
    "if os.path.exists(path + filename):\n",
    "    print('features detected (train)')\n",
    "    features = np.load(path + filename)['features']\n",
    "else:\n",
    "    print('features file not detected (train)')\n",
    "    print('calc')\n",
    "    big_x_train = np.array([scipy.misc.imresize(x_train[i], shape) \n",
    "                            for i in range(0, len(x_train))]).astype('float32')\n",
    "    mnv2_input_train = preprocess_input(big_x_train)\n",
    "    print('train data preprocessed')\n",
    "    features = model.predict(mnv2_input_train, verbose=1)\n",
    "    features = np.squeeze(features)\n",
    "    \n",
    "    np.savez(path+filename, features=features)\n",
    "    print('saved features')\n",
    "\n",
    "print('features ready (train)')\n",
    "print(features.shape)"
   ]
  },
  {
   "cell_type": "code",
   "execution_count": 5,
   "metadata": {},
   "outputs": [
    {
     "name": "stdout",
     "output_type": "stream",
     "text": [
      "features detected (test)\n",
      "features ready (test)\n",
      "(10000, 3, 3, 1280)\n"
     ]
    }
   ],
   "source": [
    "filename_test = 'mnv2_fatures_test.npz'\n",
    "\n",
    "if os.path.exists(path + filename_test):\n",
    "    print('features detected (test)')\n",
    "    features_test = np.load(path + filename_test)['features_test']\n",
    "else:\n",
    "    print('features file not detected (train)')\n",
    "    print('calc')\n",
    "    big_x_test = np.array([scipy.misc.imresize(x_test[i], shape) \n",
    "                            for i in range(0, len(x_test))]).astype('float32')\n",
    "    mnv2_input_test = preprocess_input(big_x_test)\n",
    "    print('test data preprocessed')\n",
    "    features_test = model.predict(mnv2_input_test, verbose=1)\n",
    "    features_test = np.squeeze(features_test)\n",
    "    \n",
    "    np.savez(path+filename_test, features_test=features_test)\n",
    "    print('saved features')\n",
    "\n",
    "print('features ready (test)')\n",
    "print(features_test.shape)"
   ]
  },
  {
   "cell_type": "code",
   "execution_count": 6,
   "metadata": {},
   "outputs": [
    {
     "name": "stdout",
     "output_type": "stream",
     "text": [
      "using inpit shape (output shape of model) (3, 3, 1280)\n",
      "_________________________________________________________________\n",
      "Layer (type)                 Output Shape              Param #   \n",
      "=================================================================\n",
      "conv2d_1 (Conv2D)            (None, 3, 3, 128)         163968    \n",
      "_________________________________________________________________\n",
      "flatten_1 (Flatten)          (None, 1152)              0         \n",
      "_________________________________________________________________\n",
      "dense_1 (Dense)              (None, 100)               115300    \n",
      "_________________________________________________________________\n",
      "dense_2 (Dense)              (None, 10)                1010      \n",
      "=================================================================\n",
      "Total params: 280,278\n",
      "Trainable params: 280,278\n",
      "Non-trainable params: 0\n",
      "_________________________________________________________________\n"
     ]
    }
   ],
   "source": [
    "print('using inpit shape (output shape of model)', model.output_shape[1:])\n",
    "n_classes = 10\n",
    "\n",
    "mlp = Sequential()\n",
    "mlp.add(Conv2D(filters=128, kernel_size=1, strides=1, input_shape=model.output_shape[1:]))\n",
    "mlp.add(Flatten())\n",
    "mlp.add(Dense(10*n_classes, activation='relu'))\n",
    "mlp.add(Dense(n_classes, activation='softmax'))\n",
    "mlp.summary()\n"
   ]
  },
  {
   "cell_type": "code",
   "execution_count": 13,
   "metadata": {},
   "outputs": [
    {
     "name": "stdout",
     "output_type": "stream",
     "text": [
      "(50000, 3, 3, 1280)\n",
      "(10000, 3, 3, 1280)\n",
      "(50000,)\n",
      "(10000, 1)\n",
      "(50000, 10)\n",
      "(10000, 10)\n",
      "Train on 50000 samples, validate on 10000 samples\n",
      "Epoch 1/10\n",
      "50000/50000 [==============================] - 7s 142us/step - loss: 0.5513 - acc: 0.8157 - val_loss: 0.4600 - val_acc: 0.8427\n",
      "Epoch 2/10\n",
      "50000/50000 [==============================] - 6s 112us/step - loss: 0.3347 - acc: 0.8852 - val_loss: 0.4500 - val_acc: 0.8514\n",
      "Epoch 3/10\n",
      "50000/50000 [==============================] - 6s 113us/step - loss: 0.2521 - acc: 0.9112 - val_loss: 0.4647 - val_acc: 0.8550\n",
      "Epoch 4/10\n",
      "50000/50000 [==============================] - 6s 113us/step - loss: 0.1915 - acc: 0.9337 - val_loss: 0.5347 - val_acc: 0.8472\n",
      "Epoch 5/10\n",
      "50000/50000 [==============================] - 6s 113us/step - loss: 0.1542 - acc: 0.9462 - val_loss: 0.5309 - val_acc: 0.8479\n",
      "Epoch 6/10\n",
      "50000/50000 [==============================] - 6s 112us/step - loss: 0.1210 - acc: 0.9570 - val_loss: 0.5683 - val_acc: 0.8573\n",
      "Epoch 7/10\n",
      "50000/50000 [==============================] - 6s 113us/step - loss: 0.0936 - acc: 0.9660 - val_loss: 0.6693 - val_acc: 0.8480\n",
      "Epoch 8/10\n",
      "50000/50000 [==============================] - 6s 113us/step - loss: 0.0832 - acc: 0.9711 - val_loss: 0.6785 - val_acc: 0.8539\n",
      "Epoch 9/10\n",
      "50000/50000 [==============================] - 6s 112us/step - loss: 0.0823 - acc: 0.9703 - val_loss: 0.8296 - val_acc: 0.8445\n",
      "Epoch 10/10\n",
      "50000/50000 [==============================] - 6s 112us/step - loss: 0.0768 - acc: 0.9727 - val_loss: 0.7625 - val_acc: 0.8546\n"
     ]
    }
   ],
   "source": [
    "from keras.utils import np_utils\n",
    "\n",
    "Y_train = np_utils.to_categorical(y_train, n_classes)\n",
    "Y_test = np_utils.to_categorical(y_test, n_classes)\n",
    "\n",
    "B = 128\n",
    "E = 10\n",
    "mlp.compile(optimizer='adam',loss='categorical_crossentropy',metrics=['accuracy'])\n",
    "log = mlp.fit(features,Y_train,batch_size=B,epochs=E,verbose=1,validation_data=(features_test,Y_test))"
   ]
  },
  {
   "cell_type": "code",
   "execution_count": 15,
   "metadata": {},
   "outputs": [],
   "source": [
    "from matplotlib import pyplot as pl\n",
    "\n",
    "pl.plot(log.history['loss'], label='Training')\n",
    "pl.plot(log.history['val_loss'], label='Testing')\n",
    "pl.legend()\n",
    "pl.grid()"
   ]
  },
  {
   "cell_type": "code",
   "execution_count": 16,
   "metadata": {},
   "outputs": [
    {
     "data": {
      "image/png": "[encoded data removed]",
      "text/plain": [
       "<Figure size 432x288 with 1 Axes>"
      ]
     },
     "metadata": {
      "needs_background": "light"
     },
     "output_type": "display_data"
    }
   ],
   "source": [
    "pl.plot(log.history['acc'], label='Training')\n",
    "pl.plot(log.history['val_acc'], label='Testing')\n",
    "pl.legend()\n",
    "pl.grid()"
   ]
  },
  {
   "cell_type": "code",
   "execution_count": 17,
   "metadata": {},
   "outputs": [
    {
     "name": "stdout",
     "output_type": "stream",
     "text": [
      "50000/50000 [==============================] - 6s 116us/step\n",
      "10000/10000 [==============================] - 1s 111us/step\n",
      "Train accuracy: 0.98546\n",
      "Test accuracy: 0.8546\n"
     ]
    }
   ],
   "source": [
    "loss_train, metric_train = mlp.evaluate(features, Y_train, verbose=1)\n",
    "loss_test, metric_test = mlp.evaluate(features_test, Y_test, verbose=1)\n",
    "\n",
    "print('Train accuracy:', metric_train)\n",
    "print('Test accuracy:', metric_test)"
   ]
  },
  {
   "cell_type": "markdown",
   "metadata": {},
   "source": [
    "## Using Data augmentation\n",
    "\n",
    "This method is rly slow (I aborted it). The question is why. TODO ask next week."
   ]
  },
  {
   "cell_type": "code",
   "execution_count": 20,
   "metadata": {},
   "outputs": [
    {
     "name": "stderr",
     "output_type": "stream",
     "text": [
      "/home/bkuehnis/.local/lib/python3.6/site-packages/keras_preprocessing/image.py:1643: UserWarning: NumpyArrayIterator is set to use the data format convention \"channels_last\" (channels on axis 3), i.e. expected either 1, 3, or 4 channels on axis 3. However, it was passed an array with shape (10000, 3, 3, 1280) (1280 channels).\n",
      "  str(self.x.shape[channels_axis]) + ' channels).')\n"
     ]
    }
   ],
   "source": [
    "from keras.preprocessing.image import ImageDataGenerator\n",
    "gen = ImageDataGenerator(rotation_range=8,\n",
    "                         width_shift_range=0.08,\n",
    "                         shear_range=0.3,\n",
    "                         height_shift_range=0.08,\n",
    "                         zoom_range=0.08)\n",
    "\n",
    "batches = gen.flow(features,Y_train,batch_size=B)\n",
    "val_batches = gen.flow(features_test,Y_test,batch_size=B)"
   ]
  },
  {
   "cell_type": "code",
   "execution_count": 21,
   "metadata": {},
   "outputs": [
    {
     "name": "stdout",
     "output_type": "stream",
     "text": [
      "_________________________________________________________________\n",
      "Layer (type)                 Output Shape              Param #   \n",
      "=================================================================\n",
      "conv2d_2 (Conv2D)            (None, 3, 3, 128)         163968    \n",
      "_________________________________________________________________\n",
      "flatten_2 (Flatten)          (None, 1152)              0         \n",
      "_________________________________________________________________\n",
      "dense_3 (Dense)              (None, 100)               115300    \n",
      "_________________________________________________________________\n",
      "dense_4 (Dense)              (None, 10)                1010      \n",
      "=================================================================\n",
      "Total params: 280,278\n",
      "Trainable params: 280,278\n",
      "Non-trainable params: 0\n",
      "_________________________________________________________________\n"
     ]
    }
   ],
   "source": [
    "mlp2 = Sequential()\n",
    "mlp2.add(Conv2D(filters=128, kernel_size=1, strides=1, input_shape=model.output_shape[1:]))\n",
    "mlp2.add(Flatten())\n",
    "mlp2.add(Dense(10*n_classes, activation='relu'))\n",
    "mlp2.add(Dense(n_classes, activation='softmax'))\n",
    "mlp2.summary()"
   ]
  },
  {
   "cell_type": "code",
   "execution_count": 22,
   "metadata": {},
   "outputs": [
    {
     "name": "stdout",
     "output_type": "stream",
     "text": [
      "Epoch 1/10\n",
      "390/390 [==============================] - 750s 2s/step - loss: 0.5542 - acc: 0.8137 - val_loss: 0.4302 - val_acc: 0.8554\n",
      "Epoch 2/10\n",
      "390/390 [==============================] - 726s 2s/step - loss: 0.3544 - acc: 0.8786 - val_loss: 0.4355 - val_acc: 0.8542\n",
      "Epoch 3/10\n",
      "390/390 [==============================] - 728s 2s/step - loss: 0.2824 - acc: 0.9013 - val_loss: 0.4051 - val_acc: 0.8667\n",
      "Epoch 4/10\n",
      "390/390 [==============================] - 725s 2s/step - loss: 0.2338 - acc: 0.9183 - val_loss: 0.4664 - val_acc: 0.8564\n",
      "Epoch 5/10\n",
      "390/390 [==============================] - 723s 2s/step - loss: 0.1913 - acc: 0.9325 - val_loss: 0.4955 - val_acc: 0.8577\n",
      "Epoch 6/10\n",
      "390/390 [==============================] - 723s 2s/step - loss: 0.1556 - acc: 0.9446 - val_loss: 0.5392 - val_acc: 0.8585\n",
      "Epoch 7/10\n",
      "390/390 [==============================] - 731s 2s/step - loss: 0.1285 - acc: 0.9542 - val_loss: 0.6361 - val_acc: 0.8528\n",
      "Epoch 8/10\n",
      "390/390 [==============================] - 723s 2s/step - loss: 0.1154 - acc: 0.9584 - val_loss: 0.6354 - val_acc: 0.8576\n",
      "Epoch 9/10\n",
      "390/390 [==============================] - 724s 2s/step - loss: 0.0978 - acc: 0.9642 - val_loss: 0.6870 - val_acc: 0.8559\n",
      "Epoch 10/10\n",
      "390/390 [==============================] - 729s 2s/step - loss: 0.0877 - acc: 0.9690 - val_loss: 0.7036 - val_acc: 0.8519\n"
     ]
    }
   ],
   "source": [
    "mlp2.compile(optimizer='adam',loss='categorical_crossentropy',metrics=['accuracy'])\n",
    "log2 = mlp2.fit_generator(batches,steps_per_epoch=50000//128,\n",
    "                        epochs=E,\n",
    "                        validation_data=val_batches,\n",
    "                        validation_steps=10000//128,\n",
    "                        use_multiprocessing=True)"
   ]
  },
  {
   "cell_type": "code",
   "execution_count": 23,
   "metadata": {},
   "outputs": [
    {
     "name": "stdout",
     "output_type": "stream",
     "text": [
      "50000/50000 [==============================] - 5s 100us/step\n",
      "10000/10000 [==============================] - 1s 113us/step\n",
      "Train accuracy: 0.98486\n",
      "Test accuracy: 0.854\n"
     ]
    }
   ],
   "source": [
    "loss_train, metric_train = mlp2.evaluate(features, Y_train, verbose=1)\n",
    "loss_test, metric_test = mlp2.evaluate(features_test, Y_test, verbose=1)\n",
    "\n",
    "print('Train accuracy:', metric_train)\n",
    "print('Test accuracy:', metric_test)"
   ]
  },
  {
   "cell_type": "code",
   "execution_count": null,
   "metadata": {},
   "outputs": [],
   "source": []
  }
 ],
 "metadata": {
  "kernelspec": {
   "display_name": "Python 3",
   "language": "python",
   "name": "python3"
  },
  "language_info": {
   "codemirror_mode": {
    "name": "ipython",
    "version": 3
   },
   "file_extension": ".py",
   "mimetype": "text/x-python",
   "name": "python",
   "nbconvert_exporter": "python",
   "pygments_lexer": "ipython3",
   "version": "3.6.6"
  }
 },
 "nbformat": 4,
 "nbformat_minor": 2
}
