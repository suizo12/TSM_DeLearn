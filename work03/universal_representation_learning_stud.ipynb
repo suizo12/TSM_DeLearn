{
 "cells": [
  {
   "cell_type": "markdown",
   "metadata": {},
   "source": [
    "## Universal Representation Theorem - Gradient Descent Optimisation\n",
    "\n",
    "Here we study the possibility to represent functions with a MLP with a single hidden layer (n1 hidden units).\n",
    "As activation functions, we use the sigmoid ('logit') function.\n",
    "\n",
    "Then, we generate training data - by assuming a function on the unit interval [0,1]. Here, we provide to families of functions:\n",
    "* Beta distribution function: $b_{\\alpha,\\beta}(x)=x^\\alpha\\cdot(1-x)^\\beta$\n",
    "* Sine function: $sin_\\omega(x)=\\sin(2\\pi\\omega\\cdot x)$\n",
    "\n",
    "Finally, we use mini-batch-gradient descent to minimize MSE cost.\n",
    "\n",
    "Goals:\n",
    "* Learn how a given function can be represented with a single layer MLP;\n",
    "* Understand that, in principle, it can be learned from sample data;\n",
    "* Understand that the optimization by using plain gradient (MBGD) is not always straightforward; \n",
    "* Experience that the choice of the hyper-parameters number of hidden units, batchsize, learning rate is tricky. \n"
   ]
  },
  {
   "cell_type": "markdown",
   "metadata": {},
   "source": [
    "#### Plot Utility"
   ]
  },
  {
   "cell_type": "code",
   "execution_count": 21,
   "metadata": {},
   "outputs": [],
   "source": [
    "import numpy as np\n",
    "import matplotlib.pyplot as plt\n",
    "%matplotlib inline\n",
    "\n",
    "def plot_function(x,y):\n",
    "    plt.plot(x, y)\n",
    "    plt.xlabel('x')\n",
    "    plt.show()\n",
    "    \n",
    "def plot_compare_function(x,y1,y2, label1='', label2=''):\n",
    "    plt.plot(x, y1, label=label1)\n",
    "    plt.xlabel('x')\n",
    "    plt.plot(x, y2, label=label2)\n",
    "    if label1 and label2:\n",
    "        plt.legend()\n",
    "    plt.show()\n"
   ]
  },
  {
   "cell_type": "markdown",
   "metadata": {},
   "source": [
    "### Model"
   ]
  },
  {
   "cell_type": "code",
   "execution_count": 22,
   "metadata": {},
   "outputs": [],
   "source": [
    "def sigmoid(z):\n",
    "    return 1. / (1. + np.exp(-z))"
   ]
  },
  {
   "cell_type": "code",
   "execution_count": 23,
   "metadata": {},
   "outputs": [],
   "source": [
    "def predict(X,W1,b1,W2,b2):\n",
    "    \"\"\"\n",
    "    Computes the output for the single hidden layer network (n1 units) with 1d input and 1d output.\n",
    "    \n",
    "    Arguments:\n",
    "    W1 -- weights of the hidden layer with shape (n1,1)\n",
    "    b1 -- biases of the hidden units with shape (n1,1)\n",
    "    W2 -- weights of the output layer with shape (1,n1)\n",
    "    b2 -- bias of the output\n",
    "    X  -- input data with m samples and shape (1,m)\n",
    "    \n",
    "    Returns:\n",
    "    A2 -- Output from the network of shape (1,m) \n",
    "    \n",
    "    \"\"\"\n",
    "    \n",
    "    ### START YOUR CODE ###\n",
    "    A2 = np.dot(W2, sigmoid(np.dot(W1, X) + b1))+ b2\n",
    "    ### END YOUR CODE ###\n",
    "    \n",
    "    return A2"
   ]
  },
  {
   "cell_type": "markdown",
   "metadata": {},
   "source": [
    "#### TEST - Prediction"
   ]
  },
  {
   "cell_type": "code",
   "execution_count": 24,
   "metadata": {},
   "outputs": [],
   "source": [
    "W1 = np.array([0.4,0.2,-0.4]).reshape(3,1) # n1 = 3\n",
    "b1 = np.array([0.1,0.1,0.1]).reshape(3,1)\n",
    "W2 = np.array([1,2,1]).reshape(1,3)\n",
    "b2 = -1\n",
    "X = np.linspace(-1,1,5).reshape((1,5))\n",
    "Ypred = predict(X,W1,b1,W2,b2)\n",
    "Yexp = np.array([0.99805844, 1.04946333, 1.09991675, 1.14913132, 1.19690185]).reshape(1,5)\n",
    "np.testing.assert_array_almost_equal(Ypred,Yexp,decimal=8)"
   ]
  },
  {
   "cell_type": "markdown",
   "metadata": {},
   "source": [
    "#### Cost"
   ]
  },
  {
   "cell_type": "code",
   "execution_count": 25,
   "metadata": {},
   "outputs": [],
   "source": [
    "def cost(X,Y,W1,b1,W2,b2):\n",
    "    \"\"\"\n",
    "    Computes the MSE cost for a single hidden layer network with 1d input and 1d output.\n",
    "    Uses the predict function defined above.\n",
    "    \n",
    "    Arguments:\n",
    "    W1 -- weights of the hidden layer with shape (n1,1)\n",
    "    b1 -- biases of the hidden units with shape (n1,1)\n",
    "    W2 -- weights of the output layer with shape (1,n1)\n",
    "    b2 -- bias of the output\n",
    "    X -- input data with shape (1,m)\n",
    "    Y -- labels with shape (1,m) \n",
    "    \n",
    "    Returns:\n",
    "    cost -- the MSE cost divided by 2.\n",
    "    \"\"\"\n",
    "    ### START YOUR CODE ###\n",
    "    m = X.shape[1]\n",
    "    #using function 1/2m * sum( (h(x) - y)^2 )\n",
    "    #using mean is the same as dividing by m\n",
    "    cost = 1/2.0 * ((predict(X, W1, b1, W2, b2)-Y)**2).mean()\n",
    "    ### END YOUR CODE ###\n",
    "    return cost"
   ]
  },
  {
   "cell_type": "markdown",
   "metadata": {},
   "source": [
    "#### TEST - Cost"
   ]
  },
  {
   "cell_type": "code",
   "execution_count": 26,
   "metadata": {},
   "outputs": [],
   "source": [
    "W1 = np.array([4,5,6]).reshape(3,1)\n",
    "W2 = np.array([1,2,3]).reshape(1,3)\n",
    "b1 = np.array([1,1,1]).reshape(3,1)\n",
    "b2 = 2\n",
    "X = np.linspace(-1,1,5).reshape(1,5)\n",
    "Y = 2.0*np.ones(5).reshape(1,5)\n",
    "c = cost(X,Y,W1,b1,W2,b2)\n",
    "cexp = 9.01669099\n",
    "np.testing.assert_almost_equal(c,cexp,decimal=8)"
   ]
  },
  {
   "cell_type": "markdown",
   "metadata": {},
   "source": [
    "#### Gradient"
   ]
  },
  {
   "cell_type": "code",
   "execution_count": 27,
   "metadata": {},
   "outputs": [],
   "source": [
    "def gradient(W1,b1,W2,b2,X,Y):\n",
    "    \"\"\"\n",
    "    Computes the gradient of the MSE cost for a single hidden layer network with 1d input and 1d output.\n",
    "    The parts of the gradient associated with the weights array and bias array for the hidden layer, \n",
    "    the weights array and the bias for the output layer are provided as separate numpy arrays of according \n",
    "    dimension. \n",
    "    \n",
    "    Arguments:    \n",
    "    W1 -- weights of hidden layer with shape (n1,1)\n",
    "    b1  -- biases of hidden layer with shape (n1,1)\n",
    "    W2 -- weights of output layer with shape (1,n1)\n",
    "    b2  -- biases of output layer\n",
    "    X  -- input data with shape (1,m)\n",
    "    Y  -- labels with shape (1,m)\n",
    "    \n",
    "    Returns:\n",
    "    gradient -- dictionary with the gradients w.r.t. W1, W2, b1, b2 and according keys \n",
    "                'dW1' with shape (n1,1)\n",
    "                'db1' with shape (n1,1)\n",
    "                'dW2' with shape (1,n1)\n",
    "                'db2' a scalar\n",
    "    \"\"\"\n",
    "    ### START YOUR CODE ###\n",
    "    m = Y.shape[1]\n",
    "    Yhat = predict(X, W1, b1, W2, b2)\n",
    "    sig = sigmoid(W1*X+b1)\n",
    "    \n",
    "    dW1 = (1/m) * W2.T * np.sum((Yhat-Y) * sig * (1-sig) * X, axis=1).reshape(W1.shape)\n",
    "    dW2 = (1/m) * np.sum((Yhat-Y) * sig, axis=1).reshape(W2.shape)\n",
    "    db1 = (1/m) * W2.T * np.sum((Yhat-Y) * sig * (1-sig), axis=1).reshape(b1.shape)\n",
    "    db2 = (1/m) * np.sum(Yhat-Y)\n",
    "    ### END YOUR CODE ###\n",
    "    \n",
    "    return {'dW1':dW1, 'dW2':dW2, 'db1':db1, 'db2':db2}"
   ]
  },
  {
   "cell_type": "markdown",
   "metadata": {},
   "source": [
    "#### TEST - Gradient"
   ]
  },
  {
   "cell_type": "code",
   "execution_count": 8,
   "metadata": {},
   "outputs": [],
   "source": [
    "W1 = np.array([4,5,6]).reshape(3,1)\n",
    "W2 = np.array([1,2,3]).reshape(1,3)\n",
    "b1 = np.array([1,1,1]).reshape(3,1)\n",
    "b2 = 2\n",
    "X = np.array([1,2,3,4,5,6,7]).reshape((1,7))\n",
    "Y = np.array([2,2,2,2,2,2,2]).reshape((1,7))\n",
    "gradJ = gradient(W1,b1,W2,b2,X,Y)\n",
    "dW1exp = np.array([0.00590214,0.00427602,0.00234663]).reshape(W1.shape)\n",
    "db1exp = np.array([0.00579241,0.004247,0.00234079]).reshape(b1.shape)\n",
    "dW2exp = np.array([5.99209251,5.99579451,5.99714226]).reshape(W2.shape)\n",
    "db2exp = 5.99792323\n",
    "np.testing.assert_array_almost_equal(gradJ['dW1'],dW1exp,decimal=8)\n",
    "np.testing.assert_array_almost_equal(gradJ['db1'],db1exp,decimal=8)\n",
    "np.testing.assert_array_almost_equal(gradJ['dW2'],dW2exp,decimal=8)\n",
    "np.testing.assert_almost_equal(gradJ['db2'],db2exp,decimal=8)"
   ]
  },
  {
   "cell_type": "markdown",
   "metadata": {},
   "source": [
    "#### Training Loop"
   ]
  },
  {
   "cell_type": "code",
   "execution_count": 28,
   "metadata": {},
   "outputs": [],
   "source": [
    "def train(X,Y,n1,nepochs,batchsize=32,learning_rate=0.1):\n",
    "    \"\"\"\n",
    "    Performs the training by using MBGD for a MLP with a single hidden layer (n1 units) and 1d input and output layer.\n",
    "    \n",
    "    It starts with initializing the parameters:\n",
    "    * the weights and the biases for the hidden units : W1,b1 of shape (n1,1) \n",
    "    * the weights and the bias for the output layer: W2 of shape (1,n1) and scalar b2 \n",
    "\n",
    "    Then, it loops over the epochs and per epoch over the mini-batches. The number of batches is determined from the \n",
    "    batchsize.\n",
    "    \"\"\"\n",
    "    # initialize weights\n",
    "    W1 = np.random.uniform(-1,1,n1).reshape(n1,1)*0.05\n",
    "    b1 = np.zeros((n1,1),dtype='float')\n",
    "    W2 = np.random.uniform(-1,1,n1).reshape(1,n1)*0.05\n",
    "    b2 = 0.0\n",
    "    \n",
    "    m = X.shape[1]\n",
    "    mb = int(m/batchsize)\n",
    "    indices = np.arange(m)\n",
    "    #np.random.shuffle(indices)\n",
    "    \n",
    "    # remember the epoch id and cost after each epoch for constructing the learning curve at the end\n",
    "    costs = [] \n",
    "    epochs = []\n",
    "\n",
    "    # Initial cost value:\n",
    "    epochs.append(0)\n",
    "    costs.append(cost(X,Y,W1,b1,W2,b2)) \n",
    "    \n",
    "    # training loop\n",
    "    for epoch in range(nepochs):\n",
    "        \n",
    "        ### START YOUR CODE ###\n",
    "        np.random.shuffle(indices)\n",
    "        \n",
    "        for j in range(0,m,batchsize):\n",
    "            Xtrain = X[:, j:j+batchsize]\n",
    "            Ytrain = Y[:, j:j+batchsize]\n",
    "            \n",
    "            dws = gradient(W1,b1,W2,b2,Xtrain,Ytrain)\n",
    "            W1 = W1 - learning_rate * dws[\"dW1\"]\n",
    "            b1 = b1 - learning_rate * dws[\"db1\"]\n",
    "            W2 = W2 - learning_rate * dws[\"dW2\"]\n",
    "            b2 = b2 - learning_rate * dws[\"db2\"]\n",
    "        \n",
    "        ### END YOUR CODE ###\n",
    "        epochs.append(epoch+1)\n",
    "        costs.append(cost(X,Y,W1,b1,W2,b2))        \n",
    "    \n",
    "    print(costs[-1])    \n",
    "    params = {'W1':W1, 'W2':W2,'b1':b1,'b2':b2}    \n",
    "    return params, np.array(epochs), np.array(costs)"
   ]
  },
  {
   "cell_type": "markdown",
   "metadata": {},
   "source": [
    "#### TEST - No simple test for the training loop...."
   ]
  },
  {
   "cell_type": "markdown",
   "metadata": {},
   "source": [
    "### Generation of the Training Data "
   ]
  },
  {
   "cell_type": "code",
   "execution_count": 29,
   "metadata": {},
   "outputs": [],
   "source": [
    "def beta_fct(x,alpha,beta):\n",
    "    \"\"\"\n",
    "    Parameters:\n",
    "    x - input array\n",
    "    alpha, beta -- larger values lead to more pronounced peaks\n",
    "    \"\"\"\n",
    "    c = alpha/(alpha+beta)\n",
    "    norm = c**alpha*(1-c)**beta\n",
    "    return x**alpha*(1-x)**beta/norm"
   ]
  },
  {
   "cell_type": "code",
   "execution_count": 30,
   "metadata": {},
   "outputs": [],
   "source": [
    "def sin_fct(x,omega):\n",
    "    \"\"\"\n",
    "    Parameters:\n",
    "    x -- input array\n",
    "    omega -- frequency (~number of cycles within the unit interval)\n",
    "    \"\"\"\n",
    "    return np.sin(x*2*np.pi*omega)"
   ]
  },
  {
   "cell_type": "code",
   "execution_count": 31,
   "metadata": {},
   "outputs": [],
   "source": [
    "def generate_inputs(m, func, random=True, vargs=None):\n",
    "    \"\"\"\n",
    "    Generates m (x,y=f(x))-samples by either generating random x-values in the unit interval (random=True) or by \n",
    "    generating a grid of such values. Then the y values (used as labels below) are created from the function object \n",
    "    `func`.\n",
    "    Parameter needed to define the function `func` can be passed as vargs-dict. \n",
    "    \"\"\"\n",
    "    if random:\n",
    "        x = np.random.rand(1,m)\n",
    "        y = func(x, **vargs)\n",
    "    else:\n",
    "        x = np.linspace(0,1,m).reshape(1,m)\n",
    "        y = func(x,**vargs)\n",
    "    return x,y"
   ]
  },
  {
   "cell_type": "code",
   "execution_count": 32,
   "metadata": {},
   "outputs": [],
   "source": [
    "m = 1000\n",
    "func = beta_fct\n",
    "vargs={'alpha':2.0,'beta':2.0}\n",
    "#func = sin_fct\n",
    "#vargs={'omega':3.0}\n",
    "\n",
    "X,Y = generate_inputs(m,func,vargs=vargs)"
   ]
  },
  {
   "cell_type": "code",
   "execution_count": 33,
   "metadata": {},
   "outputs": [
    {
     "data": {
      "text/plain": [
       "[<matplotlib.lines.Line2D at 0x7fbf0a382588>]"
      ]
     },
     "execution_count": 33,
     "metadata": {},
     "output_type": "execute_result"
    },
    {
     "data": {
      "image/png": "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\n",
      "text/plain": [
       "<Figure size 432x288 with 1 Axes>"
      ]
     },
     "metadata": {},
     "output_type": "display_data"
    }
   ],
   "source": [
    "plt.plot(X[0,:],Y[0,:],'+')"
   ]
  },
  {
   "cell_type": "markdown",
   "metadata": {},
   "source": [
    "### Normalize the Input and Output\n",
    "\n",
    "It turns out that it is important to normalize the input and the output data here.\n",
    "Remember the mu's and sigma's so that you can also apply it to the test data below!"
   ]
  },
  {
   "cell_type": "code",
   "execution_count": 29,
   "metadata": {},
   "outputs": [],
   "source": [
    "def normalize(X, mu=None, stdev=None):\n",
    "    \"\"\"\n",
    "    Normalizes the data X. If not provided, mu and sigma is computed.\n",
    "    \n",
    "    Returns:\n",
    "    X1 -- normalized data (array of the same shape as input)\n",
    "    mu -- mean\n",
    "    stdev -- standard deviation\n",
    "    \"\"\"\n",
    "    ### START YOUR CODE ###\n",
    "    if mu == None:\n",
    "        mu = np.mean(X)\n",
    "    if stdev == None:\n",
    "        stdev  = np.std(X, ddof=1)\n",
    "    X1 = (X - mu)/stdev\n",
    "    ### END YOUR CODE ###\n",
    "    \n",
    "    return X1,mu,stdev"
   ]
  },
  {
   "cell_type": "code",
   "execution_count": 30,
   "metadata": {},
   "outputs": [],
   "source": [
    "def inv_normalize(X1, mu, stdev):\n",
    "    \"\"\"\n",
    "    Invert the normalization.\n",
    "\n",
    "    Returns:\n",
    "    X -- unnormalized data (array of the same shape as input X1)\n",
    "    \"\"\"\n",
    "    ### START YOUR CODE ###\n",
    "    X = X1 * stdev + mu\n",
    "    ### END YOUR CODE ###\n",
    "    \n",
    "    return X"
   ]
  },
  {
   "cell_type": "code",
   "execution_count": 31,
   "metadata": {},
   "outputs": [],
   "source": [
    "# Input Normalization (average muX and standard deviation stdevX)\n",
    "X1, muX, stdevX = normalize(X)\n",
    "\n",
    "# Output Normalization (average muY and standard deviation stdevY)\n",
    "Y1, muY, stdevY = normalize(Y)"
   ]
  },
  {
   "cell_type": "code",
   "execution_count": 32,
   "metadata": {},
   "outputs": [
    {
     "data": {
      "text/plain": [
<<<<<<< HEAD
       "[<matplotlib.lines.Line2D at 0x7fbf0b7526a0>]"
=======
       "[<matplotlib.lines.Line2D at 0x11ac6cd30>]"
>>>>>>> 0c743f93301586c7c30b0d81b38a2dce67e096ca
      ]
     },
     "execution_count": 32,
     "metadata": {},
     "output_type": "execute_result"
    },
    {
     "data": {
<<<<<<< HEAD
      "image/png": "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\n",
=======
      "image/png": "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\n",
>>>>>>> 0c743f93301586c7c30b0d81b38a2dce67e096ca
      "text/plain": [
       "<Figure size 432x288 with 1 Axes>"
      ]
     },
     "metadata": {},
     "output_type": "display_data"
    }
   ],
   "source": [
    "plt.plot(X1[0,:],Y1[0,:],'+')"
   ]
  },
  {
   "cell_type": "markdown",
   "metadata": {},
   "source": [
    "### Perform the Training"
   ]
  },
  {
   "cell_type": "code",
   "execution_count": 33,
   "metadata": {},
   "outputs": [
    {
     "name": "stdout",
     "output_type": "stream",
     "text": [
<<<<<<< HEAD
      "0.0005716713062478374\n"
=======
      "0.0004337529442609623\n"
>>>>>>> 0c743f93301586c7c30b0d81b38a2dce67e096ca
     ]
    },
    {
     "data": {
      "text/plain": [
<<<<<<< HEAD
       "[<matplotlib.lines.Line2D at 0x7fbf0b722048>]"
=======
       "[<matplotlib.lines.Line2D at 0x11af3d5f8>]"
>>>>>>> 0c743f93301586c7c30b0d81b38a2dce67e096ca
      ]
     },
     "execution_count": 33,
     "metadata": {},
     "output_type": "execute_result"
    },
    {
     "data": {
<<<<<<< HEAD
      "image/png": "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\n",
=======
      "image/png": "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\n",
>>>>>>> 0c743f93301586c7c30b0d81b38a2dce67e096ca
      "text/plain": [
       "<Figure size 432x288 with 1 Axes>"
      ]
     },
     "metadata": {},
     "output_type": "display_data"
    }
   ],
   "source": [
    "# Use the normalized inputs and outputs\n",
    "n1 = 10 # number of hidden units\n",
    "nepochs = 1000 # number of epochs\n",
    "batchsize = 32\n",
    "learning_rate = 0.1\n",
    "\n",
    "### START YOUR CODE ###\n",
    "params, epochs, costs = train(X1,Y1,n1,nepochs,batchsize,learning_rate)\n",
    "### END YOUR CODE ###\n",
    "\n",
    "plt.semilogy(epochs,costs)"
   ]
  },
  {
   "cell_type": "code",
<<<<<<< HEAD
   "execution_count": 20,
   "metadata": {},
   "outputs": [
    {
     "ename": "NameError",
     "evalue": "name 'norm_Xtest' is not defined",
     "output_type": "error",
     "traceback": [
      "\u001b[0;31m---------------------------------------------------------------------------\u001b[0m",
      "\u001b[0;31mNameError\u001b[0m                                 Traceback (most recent call last)",
      "\u001b[0;32m<ipython-input-20-36dd081bc429>\u001b[0m in \u001b[0;36m<module>\u001b[0;34m()\u001b[0m\n\u001b[1;32m     10\u001b[0m \u001b[0;31m### END YOUR CODE ###\u001b[0m\u001b[0;34m\u001b[0m\u001b[0;34m\u001b[0m\u001b[0m\n\u001b[1;32m     11\u001b[0m \u001b[0;34m\u001b[0m\u001b[0m\n\u001b[0;32m---> 12\u001b[0;31m \u001b[0mplt\u001b[0m\u001b[0;34m.\u001b[0m\u001b[0mplot\u001b[0m\u001b[0;34m(\u001b[0m\u001b[0mnorm_Xtest\u001b[0m\u001b[0;34m[\u001b[0m\u001b[0;36m0\u001b[0m\u001b[0;34m,\u001b[0m\u001b[0;34m:\u001b[0m\u001b[0;34m]\u001b[0m\u001b[0;34m,\u001b[0m\u001b[0mnorm_Ytest\u001b[0m\u001b[0;34m[\u001b[0m\u001b[0;36m0\u001b[0m\u001b[0;34m,\u001b[0m\u001b[0;34m:\u001b[0m\u001b[0;34m]\u001b[0m\u001b[0;34m)\u001b[0m\u001b[0;34m\u001b[0m\u001b[0m\n\u001b[0m\u001b[1;32m     13\u001b[0m \u001b[0mplt\u001b[0m\u001b[0;34m.\u001b[0m\u001b[0mplot\u001b[0m\u001b[0;34m(\u001b[0m\u001b[0mnorm_Xtest\u001b[0m\u001b[0;34m[\u001b[0m\u001b[0;36m0\u001b[0m\u001b[0;34m,\u001b[0m\u001b[0;34m:\u001b[0m\u001b[0;34m]\u001b[0m\u001b[0;34m,\u001b[0m\u001b[0mYpred\u001b[0m\u001b[0;34m[\u001b[0m\u001b[0;36m0\u001b[0m\u001b[0;34m,\u001b[0m\u001b[0;34m:\u001b[0m\u001b[0;34m]\u001b[0m\u001b[0;34m)\u001b[0m\u001b[0;34m\u001b[0m\u001b[0m\n",
      "\u001b[0;31mNameError\u001b[0m: name 'norm_Xtest' is not defined"
     ]
=======
   "execution_count": 40,
   "metadata": {},
   "outputs": [
    {
     "data": {
      "text/plain": [
       "[<matplotlib.lines.Line2D at 0x11b1a0f28>]"
      ]
     },
     "execution_count": 40,
     "metadata": {},
     "output_type": "execute_result"
    },
    {
     "data": {
      "image/png": "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\n",
      "text/plain": [
       "<Figure size 432x288 with 1 Axes>"
      ]
     },
     "metadata": {},
     "output_type": "display_data"
>>>>>>> 0c743f93301586c7c30b0d81b38a2dce67e096ca
    }
   ],
   "source": [
    "mtest = 1000\n",
    "Xtest,Ytest = generate_inputs(mtest, func, random=False, vargs=vargs)\n",
    "\n",
    "# Do the prediction with the trained model\n",
    "\n",
    "### START YOUR CODE ###\n",
    "Xtest, muX, stdevX = normalize(Xtest, muX, stdevX)\n",
    "Ypred = predict(Xtest, params['W1'], params['b1'], params['W2'], params['b2'])\n",
    "\n",
    "Xtest = inv_normalize(Xtest, muX, stdevX)\n",
    "Ypred = inv_normalize(Ypred, muY, stdevY)\n",
    "### END YOUR CODE ###\n",
    "\n",
    "plt.plot(Xtest[0,:],Ytest[0,:])\n",
    "plt.plot(Xtest[0,:],Ypred[0,:])"
   ]
  },
  {
   "cell_type": "code",
   "execution_count": null,
   "metadata": {},
   "outputs": [],
   "source": []
  },
  {
   "cell_type": "code",
   "execution_count": null,
   "metadata": {},
   "outputs": [],
   "source": []
  }
 ],
 "metadata": {
  "kernelspec": {
   "display_name": "Python 3",
   "language": "python",
   "name": "python3"
  },
  "language_info": {
   "codemirror_mode": {
    "name": "ipython",
    "version": 3
   },
   "file_extension": ".py",
   "mimetype": "text/x-python",
   "name": "python",
   "nbconvert_exporter": "python",
   "pygments_lexer": "ipython3",
   "version": "3.6.5"
  }
 },
 "nbformat": 4,
 "nbformat_minor": 2
}
