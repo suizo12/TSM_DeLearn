{
 "cells": [
  {
   "cell_type": "code",
   "execution_count": 5,
   "metadata": {},
   "outputs": [],
   "source": [
    "import numpy as np\n",
    "from keras.models import Sequential\n",
    "from keras.layers import Dense, Activation, SimpleRNN\n",
    "from keras.callbacks import ModelCheckpoint\n",
    "from random import randint\n",
    "from matplotlib import pyplot as pl"
   ]
  },
  {
   "cell_type": "code",
   "execution_count": 6,
   "metadata": {},
   "outputs": [
    {
     "name": "stdout",
     "output_type": "stream",
     "text": [
      "Loaded a corpus of 94651 characters\n"
     ]
    }
   ],
   "source": [
    "with open(\"sonnets.txt\") as corpus_file:\n",
    "    corpus = corpus_file.read()\n",
    "    corpus_length = len(corpus)\n",
    "print(\"Loaded a corpus of {0} characters\".format(corpus_length))"
   ]
  },
  {
   "cell_type": "code",
   "execution_count": 7,
   "metadata": {},
   "outputs": [
    {
     "name": "stdout",
     "output_type": "stream",
     "text": [
      "Our corpus contains 61 unique characters.\n"
     ]
    }
   ],
   "source": [
    "# Get a unique identifier for each char in the corpus, \n",
    "# then make some dicts to ease encoding and decoding\n",
    "chars = sorted(list(set(corpus)))\n",
    "num_chars = len(chars)\n",
    "encoding = {c: i for i, c in enumerate(chars)}\n",
    "decoding = {i: c for i, c in enumerate(chars)}\n",
    "print(\"Our corpus contains {0} unique characters.\".format(num_chars))"
   ]
  },
  {
   "cell_type": "code",
   "execution_count": 8,
   "metadata": {},
   "outputs": [
    {
     "name": "stdout",
     "output_type": "stream",
     "text": [
      "Sliced our corpus into 94631 sentences of length 20\n"
     ]
    }
   ],
   "source": [
    "# chop up our data into X and y, slice into roughly \n",
    "# (num_chars / skip) overlapping 'sentences' of length \n",
    "# sentence_length, and encode the chars\n",
    "sentence_length = 20\n",
    "skip = 1\n",
    "X_data = []\n",
    "y_data = []\n",
    "for i in range (0, len(corpus) - sentence_length, skip):\n",
    "    sentence = corpus[i:i + sentence_length]\n",
    "    next_char = corpus[i + sentence_length]\n",
    "    X_data.append([encoding[char] for char in sentence])\n",
    "    y_data.append(encoding[next_char])\n",
    "\n",
    "num_sentences = len(X_data)\n",
    "print(\"Sliced our corpus into {0} sentences of length {1}\"\n",
    "      .format(num_sentences, sentence_length))"
   ]
  },
  {
   "cell_type": "code",
   "execution_count": 9,
   "metadata": {},
   "outputs": [
    {
     "name": "stdout",
     "output_type": "stream",
     "text": [
      "[52, 49, 47, 1, 40, 35, 43, 52, 39, 53, 54, 1, 37, 52, 39, 35, 54, 55, 52, 39]\n"
     ]
    }
   ],
   "source": [
    "print(X_data[1])"
   ]
  },
  {
   "cell_type": "code",
   "execution_count": 10,
   "metadata": {},
   "outputs": [
    {
     "name": "stdout",
     "output_type": "stream",
     "text": [
      "['r', 'o', 'm', ' ', 'f', 'a', 'i', 'r', 'e', 's', 't', ' ', 'c', 'r', 'e', 'a', 't', 'u', 'r', 'e']\n",
      "s\n"
     ]
    }
   ],
   "source": [
    "print([decoding[idx] for idx in X_data[1]])\n",
    "print(decoding[y_data[1]])"
   ]
  },
  {
   "cell_type": "code",
   "execution_count": 11,
   "metadata": {},
   "outputs": [
    {
     "name": "stdout",
     "output_type": "stream",
     "text": [
      "Vectorizing X and y...\n"
     ]
    }
   ],
   "source": [
    "# Vectorize our data and labels. We want everything in one-hot.\n",
    "print(\"Vectorizing X and y...\")\n",
    "X = np.zeros((num_sentences, sentence_length, num_chars), dtype=np.bool)\n",
    "y = np.zeros((num_sentences, num_chars), dtype=np.bool)\n",
    "for i, sentence in enumerate(X_data):\n",
    "    for t, encoded_char in enumerate(sentence):\n",
    "        X[i, t, encoded_char] = 1\n",
    "    y[i, y_data[i]] = 1"
   ]
  },
  {
   "cell_type": "code",
   "execution_count": 12,
   "metadata": {},
   "outputs": [
    {
     "name": "stdout",
     "output_type": "stream",
     "text": [
      "Sanity check y. Dimension: (94631, 61) # Sentences: 94631 Characters in corpus: 61\n",
      "Sanity check X. Dimension: (94631, 20, 61) Sentence length: 20\n"
     ]
    }
   ],
   "source": [
    "# Double check our vectorized data before we sink hours into fitting a model\n",
    "print(\"Sanity check y. Dimension: {0} # Sentences: {1} Characters in corpus: {2}\"\n",
    "      .format(y.shape, num_sentences, len(chars)))\n",
    "print(\"Sanity check X. Dimension: {0} Sentence length: {1}\"\n",
    "      .format(X.shape, sentence_length))"
   ]
  },
  {
   "cell_type": "code",
   "execution_count": 13,
   "metadata": {
    "scrolled": true
   },
   "outputs": [
    {
     "name": "stdout",
     "output_type": "stream",
     "text": [
      "_________________________________________________________________\n",
      "Layer (type)                 Output Shape              Param #   \n",
      "=================================================================\n",
      "simple_rnn_1 (SimpleRNN)     (None, 256)               81408     \n",
      "_________________________________________________________________\n",
      "dense_1 (Dense)              (None, 61)                15677     \n",
      "_________________________________________________________________\n",
      "activation_1 (Activation)    (None, 61)                0         \n",
      "=================================================================\n",
      "Total params: 97,085\n",
      "Trainable params: 97,085\n",
      "Non-trainable params: 0\n",
      "_________________________________________________________________\n"
     ]
    }
   ],
   "source": [
    "# Define our model\n",
    "model = Sequential()\n",
    "model.add(SimpleRNN(256, input_shape=(sentence_length, num_chars), \n",
    "                    return_sequences=False))\n",
    "model.add(Dense(num_chars))\n",
    "model.add(Activation('softmax'))\n",
    "model.compile(loss='categorical_crossentropy', optimizer='adam', \n",
    "              metrics=['accuracy'])\n",
    "model.summary()"
   ]
  },
  {
   "cell_type": "code",
   "execution_count": 14,
   "metadata": {
    "scrolled": false
   },
   "outputs": [
    {
     "name": "stdout",
     "output_type": "stream",
     "text": [
      "Epoch 1/50\n",
      "94631/94631 [==============================] - 30s 321us/step - loss: 2.5162 - acc: 0.3058\n",
      "Epoch 2/50\n",
      "94631/94631 [==============================] - 25s 268us/step - loss: 2.1761 - acc: 0.3694\n",
      "Epoch 3/50\n",
      "94631/94631 [==============================] - 25s 264us/step - loss: 2.0839 - acc: 0.3898\n",
      "Epoch 4/50\n",
      "94631/94631 [==============================] - 25s 267us/step - loss: 2.0118 - acc: 0.4076\n",
      "Epoch 5/50\n",
      "94631/94631 [==============================] - 25s 267us/step - loss: 1.9512 - acc: 0.4212\n",
      "Epoch 6/50\n",
      "94631/94631 [==============================] - 25s 266us/step - loss: 1.8988 - acc: 0.4348\n",
      "Epoch 7/50\n",
      "94631/94631 [==============================] - 25s 266us/step - loss: 1.8508 - acc: 0.4448\n",
      "Epoch 8/50\n",
      "94631/94631 [==============================] - 25s 263us/step - loss: 1.8072 - acc: 0.4569\n",
      "Epoch 9/50\n",
      "94631/94631 [==============================] - 25s 266us/step - loss: 1.7650 - acc: 0.4678\n",
      "Epoch 10/50\n",
      "94631/94631 [==============================] - 29s 309us/step - loss: 1.7337 - acc: 0.4750\n",
      "Epoch 11/50\n",
      "94631/94631 [==============================] - 29s 308us/step - loss: 1.7008 - acc: 0.4847\n",
      "Epoch 12/50\n",
      "94631/94631 [==============================] - 32s 338us/step - loss: 1.6718 - acc: 0.4914\n",
      "Epoch 13/50\n",
      "94631/94631 [==============================] - 30s 318us/step - loss: 1.6440 - acc: 0.4982\n",
      "Epoch 14/50\n",
      "94631/94631 [==============================] - 32s 333us/step - loss: 1.6175 - acc: 0.5047\n",
      "Epoch 15/50\n",
      "94631/94631 [==============================] - 30s 319us/step - loss: 1.5944 - acc: 0.5120\n",
      "Epoch 16/50\n",
      "94631/94631 [==============================] - 33s 351us/step - loss: 1.5691 - acc: 0.5167\n",
      "Epoch 17/50\n",
      "94631/94631 [==============================] - 31s 330us/step - loss: 1.5487 - acc: 0.5228\n",
      "Epoch 18/50\n",
      "94631/94631 [==============================] - 35s 371us/step - loss: 1.5312 - acc: 0.5291\n",
      "Epoch 19/50\n",
      "94631/94631 [==============================] - 33s 345us/step - loss: 1.5091 - acc: 0.5344\n",
      "Epoch 20/50\n",
      "94631/94631 [==============================] - 31s 326us/step - loss: 1.4889 - acc: 0.5389\n",
      "Epoch 21/50\n",
      "94631/94631 [==============================] - 30s 318us/step - loss: 1.4748 - acc: 0.5408\n",
      "Epoch 22/50\n",
      "94631/94631 [==============================] - 32s 343us/step - loss: 1.4559 - acc: 0.5478\n",
      "Epoch 23/50\n",
      "94631/94631 [==============================] - 32s 338us/step - loss: 1.4377 - acc: 0.5528\n",
      "Epoch 24/50\n",
      "94631/94631 [==============================] - 38s 400us/step - loss: 1.4224 - acc: 0.5572\n",
      "Epoch 25/50\n",
      "94631/94631 [==============================] - 30s 314us/step - loss: 1.4079 - acc: 0.5616\n",
      "Epoch 26/50\n",
      "94631/94631 [==============================] - 32s 333us/step - loss: 1.3936 - acc: 0.5655\n",
      "Epoch 27/50\n",
      "94631/94631 [==============================] - 27s 286us/step - loss: 1.3832 - acc: 0.5677\n",
      "Epoch 28/50\n",
      "94631/94631 [==============================] - 31s 327us/step - loss: 1.3673 - acc: 0.5723\n",
      "Epoch 29/50\n",
      "94631/94631 [==============================] - 25s 265us/step - loss: 1.3599 - acc: 0.5725\n",
      "Epoch 30/50\n",
      "94631/94631 [==============================] - 26s 271us/step - loss: 1.3487 - acc: 0.5767\n",
      "Epoch 31/50\n",
      "94631/94631 [==============================] - 29s 306us/step - loss: 1.3385 - acc: 0.5791\n",
      "Epoch 32/50\n",
      "94631/94631 [==============================] - 33s 353us/step - loss: 1.3282 - acc: 0.5815\n",
      "Epoch 33/50\n",
      "94631/94631 [==============================] - 33s 351us/step - loss: 1.3187 - acc: 0.5857\n",
      "Epoch 34/50\n",
      "94631/94631 [==============================] - 33s 350us/step - loss: 1.3114 - acc: 0.5866\n",
      "Epoch 35/50\n",
      "94631/94631 [==============================] - 31s 331us/step - loss: 1.3018 - acc: 0.5890\n",
      "Epoch 36/50\n",
      "94631/94631 [==============================] - 34s 362us/step - loss: 1.2929 - acc: 0.5917\n",
      "Epoch 37/50\n",
      "94631/94631 [==============================] - 32s 343us/step - loss: 1.2859 - acc: 0.5937\n",
      "Epoch 38/50\n",
      "94631/94631 [==============================] - 29s 302us/step - loss: 1.2815 - acc: 0.5939\n",
      "Epoch 39/50\n",
      "94631/94631 [==============================] - 29s 309us/step - loss: 1.2731 - acc: 0.5965\n",
      "Epoch 40/50\n",
      "94631/94631 [==============================] - 29s 310us/step - loss: 1.2692 - acc: 0.5955\n",
      "Epoch 41/50\n",
      "94631/94631 [==============================] - 31s 330us/step - loss: 1.2635 - acc: 0.5990\n",
      "Epoch 42/50\n",
      "94631/94631 [==============================] - 31s 323us/step - loss: 1.2559 - acc: 0.6001\n",
      "Epoch 43/50\n",
      "94631/94631 [==============================] - 26s 271us/step - loss: 1.2492 - acc: 0.6041\n",
      "Epoch 44/50\n",
      "94631/94631 [==============================] - 32s 343us/step - loss: 1.2479 - acc: 0.6045\n",
      "Epoch 45/50\n",
      "94631/94631 [==============================] - 36s 383us/step - loss: 1.2438 - acc: 0.6048\n",
      "Epoch 46/50\n",
      "94631/94631 [==============================] - 34s 360us/step - loss: 1.2374 - acc: 0.6059\n",
      "Epoch 47/50\n",
      "94631/94631 [==============================] - 32s 338us/step - loss: 1.2345 - acc: 0.6066\n",
      "Epoch 48/50\n",
      "94631/94631 [==============================] - 27s 291us/step - loss: 1.2271 - acc: 0.6093\n",
      "Epoch 49/50\n",
      "94631/94631 [==============================] - 32s 337us/step - loss: 1.2238 - acc: 0.6103\n",
      "Epoch 50/50\n",
      "94631/94631 [==============================] - 41s 431us/step - loss: 1.2191 - acc: 0.6116\n"
     ]
    }
   ],
   "source": [
    "#training time\n",
    "log = model.fit(X, y, epochs=50, batch_size=128)"
   ]
  },
  {
   "cell_type": "code",
   "execution_count": 15,
   "metadata": {},
   "outputs": [
    {
     "data": {
      "image/png": "[encoded data removed]",
      "text/plain": [
       "<Figure size 432x288 with 1 Axes>"
      ]
     },
     "metadata": {},
     "output_type": "display_data"
    }
   ],
   "source": [
    "pl.plot(log.history['loss'], label='Training')\n",
    "pl.legend()\n",
    "pl.grid()"
   ]
  },
  {
   "cell_type": "code",
   "execution_count": 16,
   "metadata": {},
   "outputs": [],
   "source": [
    "def make_seed(seed_phrase=\"\"):\n",
    "        if seed_phrase:\n",
    "            phrase_length = len(seed_phrase)\n",
    "            pattern = \"\"\n",
    "            for i in range (0, sentence_length):\n",
    "                pattern += seed_phrase[i % phrase_length]\n",
    "        else:\n",
    "            seed = randint(0, corpus_length - sentence_length)\n",
    "            pattern = corpus[seed:seed + sentence_length]\n",
    "\n",
    "        return pattern"
   ]
  },
  {
   "cell_type": "code",
   "execution_count": 17,
   "metadata": {},
   "outputs": [
    {
     "name": "stdout",
     "output_type": "stream",
     "text": [
      "In the early morning\n"
     ]
    }
   ],
   "source": [
    "seed_pattern = make_seed(\"In the early morning, the flower is shining\")\n",
    "print(seed_pattern)"
   ]
  },
  {
   "cell_type": "code",
   "execution_count": 18,
   "metadata": {},
   "outputs": [
    {
     "name": "stdout",
     "output_type": "stream",
     "text": [
      " thee,\n",
      "I will nefore agains thim,\n",
      "Haw,\n",
      "They tru--formortian the glatter child;\n",
      "O! love look glow me love, be ntill pesse to all will, thy smeel'd bugger helfest'st upreefin your pleasures to the sun is of your wakers be muspieg;\n",
      "When revery loving her every one more trans'd ever love sweet sold be fisgorn.\n",
      "\n",
      "Then look in these chate;\n",
      "When I wint as redeemsed;\n",
      "Betorrow him her, whore good on ter the palfect, sumour dase, for when fron thee, that lood being thy shown their enrmsse for me of laving \n"
     ]
    }
   ],
   "source": [
    "X = np.zeros((1, sentence_length, num_chars), dtype=np.bool)\n",
    "for i, character in enumerate(seed_pattern):\n",
    "    X[0, i, encoding[character]] = 1\n",
    "\n",
    "generated_text = \"\"\n",
    "for i in range(500):\n",
    "    output_prob = model.predict(X, verbose=0)[0]\n",
    "    # alternative is to use argmax: prediction = np.argmax(output_prob)\n",
    "    prediction = np.random.choice(num_chars, p = output_prob )\n",
    "    generated_text += decoding[prediction]\n",
    "    activations = np.zeros((1, 1, num_chars), dtype=np.bool)\n",
    "    activations[0, 0, prediction] = 1\n",
    "    #now remove first char and glue the predicted one\n",
    "    X = np.concatenate((X[:, 1:, :], activations), axis=1)\n",
    "print(generated_text)"
   ]
  },
  {
   "cell_type": "code",
   "execution_count": null,
   "metadata": {},
   "outputs": [],
   "source": []
  }
 ],
 "metadata": {
  "kernelspec": {
   "display_name": "Python 3",
   "language": "python",
   "name": "python3"
  },
  "language_info": {
   "codemirror_mode": {
    "name": "ipython",
    "version": 3
   },
   "file_extension": ".py",
   "mimetype": "text/x-python",
   "name": "python",
   "nbconvert_exporter": "python",
   "pygments_lexer": "ipython3",
   "version": "3.6.5"
  }
 },
 "nbformat": 4,
 "nbformat_minor": 2
}
