{
 "cells": [
  {
   "cell_type": "markdown",
   "metadata": {},
   "source": [
    "The objective of the exercise is to implement computational graphs in TensorFlow to train and use such an architecture. The constraints we put ourselves is to use **low-level** functions of TensorFlow, i.e. we will not use high-level functions to compose layers and to train the parameters."
   ]
  },
  {
   "cell_type": "code",
   "execution_count": 2,
   "metadata": {},
   "outputs": [],
   "source": [
    "#######################\n",
    "# Dataset Preparation #\n",
    "#######################\n",
    "import numpy as np\n",
    "import tensorflow as tf\n",
    "mnist = tf.keras.datasets.mnist\n",
    "(x_train, y_train_vec),(x_test, y_test_vec) = mnist.load_data()\n",
    "x_train, x_test = (x_train / 255.0) - 0.5, (x_test / 255.0) - 0.5\n",
    "x_train = x_train.reshape(60000, 784)\n",
    "x_test = x_test.reshape(10000, 784)\n",
    "# convert class vectors to binary class matrices\n",
    "n_classes = 10\n",
    "y_train = tf.keras.utils.to_categorical(y_train_vec, n_classes)\n",
    "y_test = tf.keras.utils.to_categorical(y_test_vec, n_classes)"
   ]
  },
  {
   "cell_type": "code",
   "execution_count": 3,
   "metadata": {},
   "outputs": [],
   "source": [
    "# Function to sample a random batch from dataset\n",
    "def next_batch(num, data, labels):\n",
    "    '''\n",
    "    Return a total of `num` random samples and labels. \n",
    "    '''\n",
    "    idx = np.arange(0 , len(data))\n",
    "    np.random.shuffle(idx)\n",
    "    idx = idx[:num]\n",
    "    data_shuffle = data[idx]\n",
    "    labels_shuffle = labels[idx]\n",
    "\n",
    "    return data_shuffle, labels_shuffle"
   ]
  },
  {
   "cell_type": "code",
   "execution_count": 45,
   "metadata": {
    "scrolled": false
   },
   "outputs": [
    {
     "name": "stdout",
     "output_type": "stream",
     "text": [
      "epoch 0 334.4510900378227\n",
      "epoch 1 201.84214106202126\n",
      "epoch 2 160.38648733496666\n",
      "epoch 3 140.53829512000084\n",
      "epoch 4 127.73839563131332\n",
      "epoch 5 118.84905652701855\n",
      "epoch 6 114.33962121605873\n",
      "epoch 7 109.28817753493786\n",
      "epoch 8 106.05130569636822\n",
      "epoch 9 101.98022834956646\n",
      "epoch 10 99.80125810205936\n",
      "epoch 11 96.30609944462776\n",
      "epoch 12 95.73136411607265\n",
      "epoch 13 93.7672469317913\n",
      "epoch 14 91.20954333990812\n",
      "epoch 15 89.8358032554388\n",
      "epoch 16 87.40891425311565\n",
      "epoch 17 87.54454374313354\n",
      "epoch 18 84.94009237736464\n",
      "epoch 19 83.09115305542946\n",
      "epoch 20 83.86275394260883\n",
      "epoch 21 81.80183826386929\n",
      "epoch 22 80.04427422583103\n",
      "epoch 23 80.2789182588458\n",
      "epoch 24 79.71688033640385\n",
      "epoch 25 77.76254963129759\n",
      "epoch 26 76.89278835058212\n",
      "epoch 27 76.22847481817007\n",
      "epoch 28 75.22253842651844\n",
      "epoch 29 74.29127226024866\n",
      "epoch 30 74.37664056569338\n",
      "epoch 31 72.62959356606007\n",
      "epoch 32 71.62242640554905\n",
      "epoch 33 71.62051520496607\n",
      "epoch 34 71.20090151578188\n",
      "epoch 35 70.00528293848038\n",
      "epoch 36 69.01402267068624\n",
      "epoch 37 67.97763712704182\n",
      "epoch 38 68.22345664352179\n",
      "epoch 39 68.82339147478342\n",
      "epoch 40 66.12552785128355\n",
      "epoch 41 65.11674965918064\n",
      "epoch 42 64.66943349689245\n",
      "epoch 43 64.69833239912987\n",
      "epoch 44 64.06385500729084\n",
      "epoch 45 65.30083522945642\n",
      "epoch 46 62.3344853669405\n",
      "epoch 47 62.81533130258322\n",
      "epoch 48 61.82313322275877\n",
      "epoch 49 61.796832129359245\n"
     ]
    }
   ],
   "source": [
    "##################\n",
    "# Training phase #\n",
    "##################\n",
    "import numpy as np\n",
    "import tensorflow as tf\n",
    "from matplotlib import pyplot as pl\n",
    "\n",
    "E = 50               # number of epochs\n",
    "B = 128               # batch size\n",
    "N = x_train.shape[0]  # number of samples\n",
    "D = x_train.shape[1]  # dimension of input sample\n",
    "H = 300               # number of neurons\n",
    "A = 0.01              # learning rate alpha\n",
    "\n",
    "##############################################\n",
    "#  COMPLETE CODE BELOW WHERE YOU SEE # ...   #\n",
    "##############################################\n",
    "\n",
    "# Build the computational graph\n",
    "\n",
    "# define placeholders x, y and learning rate alpha\n",
    "\n",
    "x = tf.placeholder(tf.float32, shape=(B,D))\n",
    "y = tf.placeholder(tf.float32, shape=(B,n_classes))\n",
    "alpha =  tf.placeholder(tf.float32)\n",
    "# define TensorFlow Variables for w1, b1, w2, b2 following the given examples\n",
    "w1 = tf.Variable(tf.truncated_normal((D, H), stddev = 0.1))\n",
    "b1 = tf.Variable(tf.constant(0.0, shape=[H]))\n",
    "w2 = tf.Variable(tf.truncated_normal((H, n_classes), stddev = 0.1))\n",
    "b2 = tf.Variable(tf.constant(0.0, shape=[n_classes]))\n",
    "\n",
    "# define nodes for forward computation for hidden neurons h and output neurons y_pred\n",
    "logits1 = tf.matmul(x,w1)+b1\n",
    "h = tf.maximum(logits1,0)\n",
    "logits2 = tf.matmul(h,w2)+b2\n",
    "y_pred = tf.nn.sigmoid(logits2)\n",
    "# define nodes for difference between predicted and target values and for loss\n",
    "diff = y_pred-y\n",
    "loss = tf.reduce_mean(tf.reduce_sum(diff**2,axis=1))\n",
    "# define the gradients\n",
    "grad_w1, grad_b1, grad_w2, grad_b2 = tf.gradients(loss, [w1,b1,w2,b2])\n",
    "\n",
    "# compute the new values of the gradients with the Variable assign method (see slides)\n",
    "new_w1 = w1.assign(w1 - alpha*grad_w1)\n",
    "new_b1 =  b1.assign(b1 - alpha*grad_b1)\n",
    "new_w2 =  w2.assign(w2 - alpha*grad_w2)\n",
    "new_b2 =  b2.assign(b2 - alpha*grad_b2)\n",
    "updates = tf.group(new_w1, new_b1, new_w2, new_b2)\n",
    "\n",
    "# Run the computational graph\n",
    "with tf.Session() as sess:\n",
    "    sess.run(tf.global_variables_initializer())\n",
    "    J = [] # to store the evolution of loss J for each epoch\n",
    "    for epoch in range(E):\n",
    "        J_epoch = 0.0\n",
    "        for _ in range(int(N/B)): # number of batches to visit for 1 epoch\n",
    "            # get batches calling the next_batch method provided above\n",
    "            x_train_batch, y_train_batch =  next_batch(B, x_train, y_train)\n",
    "            # define a dictionary of values that will be used to feed the placeholders of the graph\n",
    "            values = {x:x_train_batch, y:y_train_batch, alpha:A}\n",
    "            # ask TensorFlow to compute the graph on the batch and update the values\n",
    "            loss_val = sess.run([loss, updates], feed_dict=values)\n",
    "            J_epoch += loss_val[0]\n",
    "        J.append(J_epoch)\n",
    "        print(\"epoch\", epoch, J_epoch)\n",
    "        \n",
    "    # now retrieve the weights and bias out of the computational graph\n",
    "    w1_trained, b1_trained, w2_trained, b2_trained = sess.run([w1, b1, w2, b2])"
   ]
  },
  {
   "cell_type": "code",
   "execution_count": 42,
   "metadata": {},
   "outputs": [
    {
     "data": {
      "text/plain": [
       "[<matplotlib.lines.Line2D at 0x7f8d802aee80>]"
      ]
     },
     "execution_count": 42,
     "metadata": {},
     "output_type": "execute_result"
    },
    {
     "data": {
      "image/png": "[encoded data removed]",
      "text/plain": [
       "<Figure size 432x288 with 1 Axes>"
      ]
     },
     "metadata": {},
     "output_type": "display_data"
    }
   ],
   "source": [
    "# Plot the evolution of the loss\n",
    "pl.plot(J)"
   ]
  },
  {
   "cell_type": "code",
   "execution_count": 43,
   "metadata": {},
   "outputs": [],
   "source": [
    "#################\n",
    "# Testing phase #\n",
    "#################\n",
    "\n",
    "N = x_test.shape[0]  # number of samples\n",
    "D = x_test.shape[1]  # dimension of input sample\n",
    "\n",
    "##############################################\n",
    "#  COMPLETE CODE BELOW WHERE YOU SEE # ...   #\n",
    "##############################################\n",
    "# Build the computational graph\n",
    "x = tf.placeholder(tf.float32, shape=(N, D))\n",
    "y = tf.placeholder(tf.float32, shape=(N, n_classes))\n",
    "w1 = tf.placeholder(tf.float32, shape=(D,H))\n",
    "b1 = tf.placeholder(tf.float32, shape=[H])\n",
    "w2 = tf.placeholder(tf.float32, shape=(H,n_classes))\n",
    "b2 = tf.placeholder(tf.float32, shape=[n_classes])\n",
    "\n",
    "# define nodes for forward computation for hidden neurons h and output neurons y_pred\n",
    "logits1 = tf.matmul(x,w1)+b1\n",
    "h = tf.maximum(logits1,0)\n",
    "logits2 = tf.matmul(h,w2)+b2\n",
    "y_pred = tf.nn.sigmoid(logits2)\n",
    "\n",
    "# Run the computational graph\n",
    "with tf.Session() as sess:\n",
    "    # define a dictionary of values that will be used to feed the placeholders of the graph\n",
    "    # don't forget to pass in the trained weights and biases\n",
    "    # ask TensorFlow to compute the graph on the test set\n",
    "    values = {x:x_test, y:y_test, w1:w1_trained, b1:b1_trained, w2:w2_trained, b2:b2_trained}\n",
    "    y_pred_test = sess.run([y_pred], feed_dict=values)[0]\n",
    "\n",
    "# At this stage, y_pred_test should contain the matrix of outputs on the test set with shape (N_test, 10)"
   ]
  },
  {
   "cell_type": "code",
   "execution_count": 44,
   "metadata": {},
   "outputs": [
    {
     "name": "stdout",
     "output_type": "stream",
     "text": [
      "# correct  :  8816\n",
      "# missed   :  1184\n",
      "accuracy   :  88.16 %\n",
      "error rate :  11.84 %\n"
     ]
    }
   ],
   "source": [
    "# compute accuracy\n",
    "y_winner = np.argmax(y_pred_test, axis=1)\n",
    "N_test = y_winner.size\n",
    "num_correct = (y_winner == y_test_vec).sum()\n",
    "num_missed = N_test - num_correct\n",
    "accuracy = num_correct * 1.0 / N_test\n",
    "error_rate = num_missed * 1.0 / N_test\n",
    "print('# correct  : ', num_correct)\n",
    "print('# missed   : ', num_missed)\n",
    "print('accuracy   :  %2.2f %%'% (accuracy*100.0))\n",
    "print('error rate :  %2.2f %%'% (error_rate*100.0))"
   ]
  },
  {
   "cell_type": "code",
   "execution_count": null,
   "metadata": {},
   "outputs": [],
   "source": []
  }
 ],
 "metadata": {
  "kernelspec": {
   "display_name": "Python 3",
   "language": "python",
   "name": "python3"
  },
  "language_info": {
   "codemirror_mode": {
    "name": "ipython",
    "version": 3
   },
   "file_extension": ".py",
   "mimetype": "text/x-python",
   "name": "python",
   "nbconvert_exporter": "python",
   "pygments_lexer": "ipython3",
   "version": "3.6.5"
  }
 },
 "nbformat": 4,
 "nbformat_minor": 2
}
