{
 "cells": [
  {
   "cell_type": "markdown",
   "metadata": {},
   "source": [
    "The objective of the exercise is to implement computational graphs in TensorFlow to train and use such an architecture. The constraints we put ourselves is to use **low-level** functions of TensorFlow, i.e. we will not use high-level functions to compose layers and to train the parameters."
   ]
  },
  {
   "cell_type": "code",
   "execution_count": 36,
   "metadata": {},
   "outputs": [],
   "source": [
    "#######################\n",
    "# Dataset Preparation #\n",
    "#######################\n",
    "import numpy as np\n",
    "import tensorflow as tf\n",
    "mnist = tf.keras.datasets.mnist\n",
    "(x_train, y_train_vec),(x_test, y_test_vec) = mnist.load_data()\n",
    "x_train, x_test = (x_train / 255.0) - 0.5, (x_test / 255.0) - 0.5\n",
    "x_train = x_train.reshape(60000, 784)\n",
    "x_test = x_test.reshape(10000, 784)\n",
    "# convert class vectors to binary class matrices\n",
    "n_classes = 10\n",
    "y_train = tf.keras.utils.to_categorical(y_train_vec, n_classes)\n",
    "y_test = tf.keras.utils.to_categorical(y_test_vec, n_classes)"
   ]
  },
  {
   "cell_type": "code",
   "execution_count": 37,
   "metadata": {},
   "outputs": [],
   "source": [
    "# Function to sample a random batch from dataset\n",
    "def next_batch(num, data, labels):\n",
    "    '''\n",
    "    Return a total of `num` random samples and labels. \n",
    "    '''\n",
    "    idx = np.arange(0 , len(data))\n",
    "    np.random.shuffle(idx)\n",
    "    idx = idx[:num]\n",
    "    data_shuffle = data[idx]\n",
    "    labels_shuffle = labels[idx]\n",
    "\n",
    "    return data_shuffle, labels_shuffle"
   ]
  },
  {
   "cell_type": "code",
   "execution_count": 39,
   "metadata": {
    "scrolled": false
   },
   "outputs": [
    {
     "name": "stdout",
     "output_type": "stream",
     "text": [
      "w1 (784, 300)\n",
      "x (128, 784)\n",
      "b1 (300,)\n",
      "w2 (300, 10)\n",
      "yhat (128, 300)\n",
      "b2 (10,)\n",
      "y (128, 10)\n",
      "-----\n",
      "diff (128, 10)\n",
      "grad_b2 (10,)\n",
      "grad_w2 (300, 10)\n",
      "epoch 0 0.85183525\n",
      "epoch 1 0.78482175\n",
      "epoch 2 0.7073792\n",
      "epoch 3 0.63555306\n",
      "epoch 4 0.5533297\n",
      "epoch 5 0.5303085\n",
      "epoch 6 0.516902\n",
      "epoch 7 0.45481768\n",
      "epoch 8 0.47139114\n",
      "epoch 9 0.3844332\n",
      "epoch 10 0.41393608\n",
      "epoch 11 0.42826796\n",
      "epoch 12 0.38772535\n",
      "epoch 13 0.40250307\n",
      "epoch 14 0.3374436\n",
      "epoch 15 0.35013562\n",
      "epoch 16 0.30285972\n",
      "epoch 17 0.34908798\n",
      "epoch 18 0.32399708\n",
      "epoch 19 0.2655895\n",
      "epoch 20 0.3047247\n",
      "epoch 21 0.29155874\n",
      "epoch 22 0.33756328\n",
      "epoch 23 0.2664557\n",
      "epoch 24 0.2966022\n",
      "epoch 25 0.25866055\n",
      "epoch 26 0.29049477\n",
      "epoch 27 0.30108964\n",
      "epoch 28 0.22748503\n",
      "epoch 29 0.28356907\n",
      "epoch 30 0.22211155\n",
      "epoch 31 0.28273648\n",
      "epoch 32 0.28372136\n",
      "epoch 33 0.23684873\n",
      "epoch 34 0.25572282\n",
      "epoch 35 0.28582484\n",
      "epoch 36 0.23429933\n",
      "epoch 37 0.21483403\n",
      "epoch 38 0.2530149\n",
      "epoch 39 0.2865495\n",
      "epoch 40 0.270009\n",
      "epoch 41 0.31430614\n",
      "epoch 42 0.2637923\n",
      "epoch 43 0.23960873\n",
      "epoch 44 0.2502116\n",
      "epoch 45 0.24466175\n",
      "epoch 46 0.26381472\n",
      "epoch 47 0.19284031\n",
      "epoch 48 0.22840665\n",
      "epoch 49 0.21464127\n"
     ]
    }
   ],
   "source": [
    "##################\n",
    "# Training phase #\n",
    "##################\n",
    "import numpy as np\n",
    "import tensorflow as tf\n",
    "from matplotlib import pyplot as pl\n",
    "\n",
    "E = 50               # number of epochs\n",
    "B = 128               # batch size\n",
    "N = x_train.shape[0]  # number of samples\n",
    "D = x_train.shape[1]  # dimension of input sample\n",
    "H = 300               # number of neurons\n",
    "A = 0.01              # learning rate alpha\n",
    "\n",
    "##############################################\n",
    "#  COMPLETE CODE BELOW WHERE YOU SEE # ...   #\n",
    "##############################################\n",
    "\n",
    "# Build the computational graph\n",
    "\n",
    "# define placeholders x, y and learning rate alpha\n",
    "x = tf.placeholder(tf.float32, shape=(B, D))\n",
    "y = tf.placeholder(tf.float32, shape=(B, n_classes))\n",
    "#alpha = tf.Variable(tf.constant(A, shape=()))\n",
    "#when using as placeholder\n",
    "alpha = tf.placeholder(tf.float32, shape=())\n",
    "# define TensorFlow Variables for w1, b1, w2, b2 following the given examples\n",
    "w1 = tf.Variable(tf.truncated_normal((D, H), stddev = 0.1))\n",
    "b1 = tf.Variable(tf.constant(0.0, shape=[H]))\n",
    "w2 = tf.Variable(tf.truncated_normal((H, n_classes), stddev = 0.1))\n",
    "b2 = tf.Variable(tf.constant(0.0, shape=[n_classes]))\n",
    "\n",
    "# define nodes for forward computation for hidden neurons h and output neurons y_pred\n",
    "print('w1', w1.shape)\n",
    "print('x',x.shape)\n",
    "print('b1', b1.shape)\n",
    "h = tf.matmul(x, w1) + b1\n",
    "yhat = tf.nn.sigmoid(h)\n",
    "print('w2', w2.shape)\n",
    "print('yhat',yhat.shape)\n",
    "print('b2', b2.shape)\n",
    "print('y', y.shape)\n",
    "print('-----')\n",
    "y_pred = tf.sigmoid(tf.matmul(yhat, w2)+b2)\n",
    "# define nodes for difference between predicted and target values and for loss\n",
    "diff = y_pred - y\n",
    "print('diff', diff.shape)\n",
    "loss = tf.reduce_mean(tf.reduce_sum(diff**2, axis=1))\n",
    "# define the gradients\n",
    "grad_w1, grad_b1, grad_w2, grad_b2 = tf.gradients(loss, [w1, b1, w2, b2])\n",
    "print('grad_b2', grad_b2.shape)\n",
    "print('grad_w2', grad_w2.shape)\n",
    "\n",
    "# compute the new values of the gradients with the Variable assign method (see slides)\n",
    "new_w1 = w1.assign(w1 - alpha * grad_w1)\n",
    "new_b1 = b1.assign(b1 - alpha * grad_b1)\n",
    "new_w2 = w2.assign(w2 - alpha * grad_w2)\n",
    "new_b2 = b2.assign(b2 - alpha * grad_b2)\n",
    "updates = tf.group(new_w1, new_b1, new_w2, new_b2)\n",
    "\n",
    "# Run the computational graph\n",
    "with tf.Session() as sess:\n",
    "    sess.run(tf.global_variables_initializer())\n",
    "    J = []\n",
    "    for epoch in range(E):\n",
    "        for _ in range(int(N/B)): # number of batches to visit for 1 epoch\n",
    "            # get batches calling the next_batch method provided above\n",
    "            x_train_batch, y_train_batch = next_batch(B, x_train, y_train)\n",
    "            # define a dictionary of values that will be used to feed the placeholders of the graph\n",
    "            values = {x:x_train_batch, y:y_train_batch, alpha:A}\n",
    "            # ask TensorFlow to compute the graph on the batch and update the values\n",
    "            loss_val = sess.run([loss, updates], feed_dict=values)\n",
    "        J.append(loss_val)\n",
    "        print(\"epoch\", epoch, loss_val[0])\n",
    "\n",
    "    # now retrieve the weights and bias out of the computational graph\n",
    "    w1_trained, b1_trained, w2_trained, b2_trained = sess.run([w1, b1, w2, b2])"
   ]
  },
  {
   "cell_type": "code",
   "execution_count": 40,
   "metadata": {},
   "outputs": [
    {
     "data": {
      "text/plain": [
       "[<matplotlib.lines.Line2D at 0x1029ebb00>,\n",
       " <matplotlib.lines.Line2D at 0x1029ebcf8>]"
      ]
     },
     "execution_count": 40,
     "metadata": {},
     "output_type": "execute_result"
    },
    {
     "data": {
      "image/png": "[encoded data removed]",
      "text/plain": [
       "<Figure size 432x288 with 1 Axes>"
      ]
     },
     "metadata": {},
     "output_type": "display_data"
    }
   ],
   "source": [
    "# Plot the evolution of the loss\n",
    "pl.plot(J)"
   ]
  },
  {
   "cell_type": "code",
   "execution_count": 56,
   "metadata": {},
   "outputs": [],
   "source": [
    "#################\n",
    "# Testing phase #\n",
    "#################\n",
    "\n",
    "N = x_test.shape[0]  # number of samples\n",
    "D = x_test.shape[1]  # dimension of input sample\n",
    "\n",
    "##############################################\n",
    "#  COMPLETE CODE BELOW WHERE YOU SEE # ...   #\n",
    "##############################################\n",
    "#w1_trained, b1_trained, w2_trained, b2_trained = sess.run([w1, b1, w2, b2])\n",
    "# Build the computational graph\n",
    "x = tf.placeholder(tf.float32, shape=(N, D))\n",
    "y = tf.placeholder(tf.float32, shape=(N, n_classes))\n",
    "w1 = tf.placeholder(tf.float32, shape=w1_trained.shape)\n",
    "b1 = tf.placeholder(tf.float32, shape=b1_trained.shape)\n",
    "w2 = tf.placeholder(tf.float32, shape=w2_trained.shape)\n",
    "b2 = tf.placeholder(tf.float32, shape=b2_trained.shape)\n",
    "\n",
    "# define nodes for forward computation for hidden neurons h and output neurons y_pred\n",
    "h = tf.matmul(x, w1) + b1\n",
    "yhat = tf.nn.sigmoid(h)\n",
    "y_pred = tf.sigmoid(tf.matmul(yhat, w2)+b2)\n",
    "\n",
    "\n",
    "# Run the computational graph\n",
    "with tf.Session() as sess:\n",
    "    # define a dictionary of values that will be used to feed the placeholders of the graph\n",
    "    # don't forget to pass in the trained weights and biases\n",
    "    # values = ...\n",
    "    # ask TensorFlow to compute the graph on the test set\n",
    "    # values = { ... }\n",
    "    # y_pred_test = sess.run(...)\n",
    "    values = {x:x_test, y:y_test, w1:w1_trained, b1:b1_trained, w2:w2_trained, b2:b2_trained}\n",
    "    y_pred_test = sess.run([y_pred], feed_dict=values)[0]\n",
    "\n",
    "# At this stage, y_pred_test should contain the matrix of outputs on the test set with shape (N_test, 10)"
   ]
  },
  {
   "cell_type": "code",
   "execution_count": 57,
   "metadata": {},
   "outputs": [
    {
     "name": "stdout",
     "output_type": "stream",
     "text": [
      "# correct  :  8966\n",
      "# missed   :  1034\n",
      "accuracy   :  89.66 %\n",
      "error rate :  10.34 %\n"
     ]
    }
   ],
   "source": [
    "# compute accuracy\n",
    "y_winner = np.argmax(y_pred_test, axis=1)\n",
    "N_test = y_winner.size\n",
    "num_correct = (y_winner == y_test_vec).sum()\n",
    "num_missed = N_test - num_correct\n",
    "accuracy = num_correct * 1.0 / N_test\n",
    "error_rate = num_missed * 1.0 / N_test\n",
    "print('# correct  : ', num_correct)\n",
    "print('# missed   : ', num_missed)\n",
    "print('accuracy   :  %2.2f %%'% (accuracy*100.0))\n",
    "print('error rate :  %2.2f %%'% (error_rate*100.0))"
   ]
  },
  {
   "cell_type": "code",
   "execution_count": null,
   "metadata": {},
   "outputs": [],
   "source": []
  }
 ],
 "metadata": {
  "kernelspec": {
   "display_name": "Python 3",
   "language": "python",
   "name": "python3"
  },
  "language_info": {
   "codemirror_mode": {
    "name": "ipython",
    "version": 3
   },
   "file_extension": ".py",
   "mimetype": "text/x-python",
   "name": "python",
   "nbconvert_exporter": "python",
   "pygments_lexer": "ipython3",
   "version": "3.6.4"
  }
 },
 "nbformat": 4,
 "nbformat_minor": 2
}
