{
 "cells": [
  {
   "cell_type": "markdown",
   "metadata": {},
   "source": [
    "## MNIST Data\n",
    "\n",
    "Binary classification based on MNIST data - classifying whether a given image contains the digit '5' or not.\n",
    "A smaller ('lightweight') version of MNIST is used - containing 8x8 images that are included in the scikit-learn library.\n",
    "\n",
    "In the following, we use the following notation (see also the notations sheet):\n",
    "\n",
    "m: Number of samples <br>\n",
    "n: Number of features"
   ]
  },
  {
   "cell_type": "markdown",
   "metadata": {},
   "source": [
    "### Data Preparation\n",
    "\n",
    "#### Load Data "
   ]
  },
  {
   "cell_type": "code",
   "execution_count": 1,
   "metadata": {
    "scrolled": false
   },
   "outputs": [
    {
     "name": "stdout",
     "output_type": "stream",
     "text": [
      "Image Data Shape (1797, 64)\n",
      "Label Data Shape (1797,)\n",
      "[[ 0.  0.  1.  8. 15. 10.  0.  0.]\n",
      " [ 0.  3. 13. 15. 14. 14.  0.  0.]\n",
      " [ 0.  5. 10.  0. 10. 12.  0.  0.]\n",
      " [ 0.  0.  3.  5. 15. 10.  2.  0.]\n",
      " [ 0.  0. 16. 16. 16. 16. 12.  0.]\n",
      " [ 0.  1.  8. 12. 14.  8.  3.  0.]\n",
      " [ 0.  0.  0. 10. 13.  0.  0.  0.]\n",
      " [ 0.  0.  0. 11.  9.  0.  0.  0.]]\n",
      "7\n"
     ]
    },
    {
     "data": {
      "image/png": "[encoded data removed]",
      "text/plain": [
       "<Figure size 432x288 with 1 Axes>"
      ]
     },
     "metadata": {},
     "output_type": "display_data"
    }
   ],
   "source": [
    "import numpy as np\n",
    "import matplotlib.pyplot as plt\n",
    "%matplotlib inline\n",
    "\n",
    "from sklearn.datasets import load_digits\n",
    "digits = load_digits()\n",
    "x = digits.data\n",
    "y = digits.target\n",
    "print(\"Image Data Shape\" , x.shape)\n",
    "print(\"Label Data Shape\", y.shape)\n",
    "\n",
    "image = x[17,:]\n",
    "plt.imshow(np.reshape(image, (8,8)), cmap=plt.cm.gray)\n",
    "print(np.reshape(image, (8,8)))\n",
    "print(y[17])"
   ]
  },
  {
   "cell_type": "markdown",
   "metadata": {},
   "source": [
    "#### Split Data and bring it in the correct shape\n",
    "\n",
    "Split the data into training set and test set.\n",
    "We use the scikit-learn function 'train_test_split' and use a (80%/20%) splitting.\n",
    "\n",
    "Furthermore, we bring the input data (x) into the shape (n,m) where n is the number of input features and m the number of samples.  "
   ]
  },
  {
   "cell_type": "code",
   "execution_count": 2,
   "metadata": {
    "scrolled": true
   },
   "outputs": [
    {
     "name": "stdout",
     "output_type": "stream",
     "text": [
      "Shape training set:  (64, 1437) (1, 1437)\n",
      "Shape test set:      (64, 360) (1, 360)\n"
     ]
    }
   ],
   "source": [
    "from sklearn.model_selection import train_test_split\n",
    "\n",
    "# split\n",
    "x_train0, x_test0, y_train, y_test = train_test_split(x, y, test_size=0.20, random_state=0)\n",
    "\n",
    "# reshape: \n",
    "# for x a simple transpose is sufficient \n",
    "# (m,n) -> (n,m) where m is the number of samples and n the number of input features (pixels)\n",
    "# for y reshape the simple array to become a (1,m) array\n",
    "x_train1 = x_train0.T\n",
    "x_test1 = x_test0.T\n",
    "m_train = x_train0.shape[0]\n",
    "m_test = x_test0.shape[0]\n",
    "y_train=y_train.reshape(1,m_train)\n",
    "y_test=y_test.reshape(1,m_test)\n",
    "\n",
    "print(\"Shape training set: \", x_train1.shape, y_train.shape)\n",
    "print(\"Shape test set:     \", x_test1.shape, y_test.shape)"
   ]
  },
  {
   "cell_type": "markdown",
   "metadata": {},
   "source": [
    "#### Data Normalisation\n",
    "\n",
    "Rescale the data - apply min/max rescaling (- we get back to centering later).\n",
    "\n",
    "Test that the result is expected."
   ]
  },
  {
   "cell_type": "code",
   "execution_count": 3,
   "metadata": {
    "scrolled": true
   },
   "outputs": [
    {
     "name": "stdout",
     "output_type": "stream",
     "text": [
      "0.0 16.0\n"
     ]
    }
   ],
   "source": [
    "import numpy as np\n",
    "xmax = np.max(x_train1)\n",
    "xmin = np.min(x_train1)\n",
    "print(xmin, xmax)\n",
    "x_train = x_train1 / xmax\n",
    "x_test = x_test1 / xmax"
   ]
  },
  {
   "cell_type": "markdown",
   "metadata": {},
   "source": [
    "### Perceptron-Model"
   ]
  },
  {
   "cell_type": "code",
   "execution_count": 4,
   "metadata": {
    "scrolled": true
   },
   "outputs": [],
   "source": [
    "def sigmoid(z):\n",
    "    \"\"\"\n",
    "    Compute the sigmoid of z\n",
    "    Arguments:\n",
    "    z -- A scalar or numpy array of any size.\n",
    "    Return:\n",
    "    s -- sigmoid(z)\n",
    "    \"\"\"\n",
    "    ### START YOUR CODE ###\n",
    "    return 1 / (1 + np.exp(-z))\n",
    "    ### END YOUR CODE ###"
   ]
  },
  {
   "cell_type": "code",
   "execution_count": 5,
   "metadata": {
    "scrolled": true
   },
   "outputs": [],
   "source": [
    "def predict(w, b, X, round=False):\n",
    "    '''\n",
    "    Compute the prediction for each of the m samples by using the parameters (w, b).\n",
    "    Return the numeric value if `round=False` - return a rounded value (0 or 1) if `round=True`. \n",
    "    \n",
    "    Arguments:\n",
    "    w -- weights, a numpy array with shape (1, n)\n",
    "    b -- bias, a scalar\n",
    "    X -- data of size (n,m)\n",
    "    round -- flag to indicate whether to round or not.\n",
    "    \n",
    "    Returns:\n",
    "    predictions -- a numpy array (vector) containing all predictions\n",
    "    ''' \n",
    "    ### START YOUR CODE ###\n",
    "    #y = np.dot(w, X) + b\n",
    "    y = sigmoid(np.dot(w, X) + b)\n",
    "    \n",
    "    if round:\n",
    "        y[y>=0] = 1.\n",
    "        y[y<0] = 0.\n",
    "        return y\n",
    "    return y\n",
    "    ### END YOUR CODE ###"
   ]
  },
  {
   "cell_type": "markdown",
   "metadata": {},
   "source": [
    "### Cost Function\n",
    "\n",
    "* Cross-Entropy Cost Function\n",
    "* Mean Square Error Function"
   ]
  },
  {
   "cell_type": "code",
   "execution_count": 6,
   "metadata": {},
   "outputs": [],
   "source": [
    "def reshapey(yhat,y):\n",
    "    \"\"\"\n",
    "    Checks whether the inputs come as a list in which case it reshapes it to (1,m).\n",
    "    Implementation is sloppy...\n",
    "    \"\"\"\n",
    "    if type(yhat).__module__ == np.__name__:\n",
    "        m = yhat.size\n",
    "        yhat = yhat.reshape(1,m)\n",
    "        y = y.reshape(1,m)\n",
    "    else:\n",
    "        m = 1\n",
    "    return yhat, y, m"
   ]
  },
  {
   "cell_type": "code",
   "execution_count": 7,
   "metadata": {
    "scrolled": true
   },
   "outputs": [],
   "source": [
    "def cost_CE(yhat, y):\n",
    "    \"\"\"\n",
    "    Computes the cross entropy cost function for given predicted values and labels.\n",
    "    \n",
    "    Parameters:\n",
    "    yhat -- A scalar or numpy array with shape (1,m).\n",
    "    y    -- A scalar or numpy array with shape (1,m).\n",
    "    \n",
    "    Returns:\n",
    "    \"\"\"\n",
    "    yhat, y, m = reshapey(yhat, y)\n",
    "    cost = -(1 / m) * np.sum(y * np.log(yhat) + (1-y)*np.log(1 - yhat))\n",
    "    #cost = 0\n",
    "    #for i in range(0, m-1):\n",
    "    #    cost = cost + (y[0][i] * np.log(sigmoid(yhat[0][i])) + (1-y[0][i]) * np.log(1-sigmoid(yhat[0][i])))\n",
    "    return cost\n",
    "    ### END YOUR CODE ###"
   ]
  },
  {
   "cell_type": "code",
   "execution_count": 8,
   "metadata": {
    "scrolled": true
   },
   "outputs": [],
   "source": [
    "def cost_MSE(yhat, y):\n",
    "    \"\"\"\n",
    "    Computes the mean square error cost function for given predicted values and labels.\n",
    "    \n",
    "    Parameters:\n",
    "    yhat -- A scalar or numpy array with shape (1,m).\n",
    "    y    -- A scalar or numpy array with shape (1,m).\n",
    "    \n",
    "    Returns:\n",
    "    MSE Cost\n",
    "    \"\"\"    \n",
    "    yhat, y, m = reshapey(yhat, y)\n",
    "\n",
    "    ### START YOUR CODE ###\n",
    "    cost = 1 / (2*m) * np.sum((yhat - y)**2)\n",
    "    \n",
    "    return cost\n",
    "    ### END YOUR CODE ###"
   ]
  },
  {
   "cell_type": "markdown",
   "metadata": {},
   "source": [
    "### Update Rules for the Parameters\n",
    "\n",
    "Different update rules associated with the different cost functions.\n",
    "\n",
    "![title](img/ce_update_rule.png)"
   ]
  },
  {
   "cell_type": "code",
   "execution_count": 9,
   "metadata": {
    "scrolled": true
   },
   "outputs": [],
   "source": [
    "def step_CE(w, b, X, Y):\n",
    "    \"\"\"\n",
    "    Computes the update of the weights and bias - by using the cross entropy cost. \n",
    "    \n",
    "    Arguments:\n",
    "    w -- weights, a numpy array of size (1,n)\n",
    "    b -- bias, a scalar\n",
    "    X -- data of size (n, m)\n",
    "    Y -- label vector (1, m)\n",
    "\n",
    "    Returns:\n",
    "    gradJ -- dictionary with the gradient w.r.t. w (key \"dw\") and w.r.t. b (key \"db\")\n",
    "    \"\"\"\n",
    "    ### START YOUR CODE ###\n",
    "    # see slide 56\n",
    "    n, m = X.shape\n",
    "    yhat = predict(w, b, X)\n",
    "    w = ((1/m) * np.sum((yhat - Y) * X))\n",
    "    b = (1/m) * np.sum(yhat - Y)\n",
    "    return w, b\n",
    "    ### END YOUR CODE ###"
   ]
  },
  {
   "cell_type": "markdown",
   "metadata": {},
   "source": [
    "see page 40"
   ]
  },
  {
   "cell_type": "code",
   "execution_count": 10,
   "metadata": {
    "scrolled": true
   },
   "outputs": [],
   "source": [
    "def step_MSE(w, b, X, Y):\n",
    "    \"\"\"\n",
    "    Computes the update of the weights and bias - by using the mean square error cost. \n",
    "\n",
    "    Arguments:\n",
    "    w -- weights, a numpy array of size (1,n)\n",
    "    b -- bias, a scalar\n",
    "    X -- data of size (n, m)\n",
    "    Y -- label vector (1, m)\n",
    "\n",
    "    Returns:\n",
    "    gradJ -- dictionary with the gradient w.r.t. w (key \"dw\") and w.r.t. b (key \"db\")\n",
    "    \"\"\"\n",
    "    ### START YOUR CODE ###\n",
    "    n, m = X.shape\n",
    "    yhat = predict(w, b, X)\n",
    "    #w = w - b * np.dot((yhat - Y), X) \n",
    "    #b = b - b * np.sum(yhat - Y)\n",
    "    # Folien 40\n",
    "    w = ((1/m) * np.sum(yhat*(1 - yhat)*(yhat - Y) * X))\n",
    "    b = ((1/m) * np.sum(yhat*(1 - yhat)*(yhat - Y)))\n",
    "    return w, b\n",
    "\n",
    "    ### END YOUR CODE ###"
   ]
  },
  {
   "cell_type": "markdown",
   "metadata": {},
   "source": [
    "### For the Output Analysis "
   ]
  },
  {
   "cell_type": "code",
   "execution_count": 11,
   "metadata": {
    "scrolled": true
   },
   "outputs": [],
   "source": [
    "def error_rate(w, b, X, Y):\n",
    "    \"\"\"\n",
    "    Compute the error rate defined as the fraction of misclassified samples.\n",
    "    \n",
    "    Arguments:\n",
    "    w -- weights of shape (1,n)\n",
    "    b -- bias (scalar)\n",
    "    X -- data of size (n, m)\n",
    "    Y -- label vector (1, m)\n",
    "\n",
    "    Returns:\n",
    "    error_rate \n",
    "    \"\"\"\n",
    "    return np.sum(Y !=predict(w, b, X, round=True))/Y.size"
   ]
  },
  {
   "cell_type": "code",
   "execution_count": 12,
   "metadata": {
    "scrolled": true
   },
   "outputs": [],
   "source": [
    "import numpy as np \n",
    "import matplotlib.pyplot as plt\n",
    "%matplotlib inline\n",
    "\n",
    "PIXELS = (8,8)\n",
    "COLS = 5\n",
    "def plot_digits(X,Y,indices):\n",
    "    \"\"\"\n",
    "    Plots the digits in a mosaic with up to 8 columns\n",
    "\n",
    "    Arguments:\n",
    "    X -- data of size (1, 64)\n",
    "    Y -- label (a scalar)\n",
    "    indices -- list of indices    \n",
    "    \"\"\"\n",
    "    if len(indices)==0:\n",
    "        print(\"No images to show!\")\n",
    "        return\n",
    "    cols = min(COLS, len(indices))\n",
    "    rows = len(indices)/COLS+1\n",
    "    plt.figure(figsize=(20,4*rows))\n",
    "    for index, (image, label) in enumerate(zip(X.T[indices,:], Y.T[indices,:])):\n",
    "        plt.subplot(rows, cols, index+1)\n",
    "        plt.imshow(np.reshape(image, PIXELS), cmap=plt.cm.gray)\n",
    "        plt.title('Sample %i\\n Label %i\\n' % (indices[index],label), fontsize = 12)"
   ]
  },
  {
   "cell_type": "markdown",
   "metadata": {},
   "source": [
    "### Initialize and Optimize (Learn)\n",
    "\n",
    "#### Initialize Parameters"
   ]
  },
  {
   "cell_type": "code",
   "execution_count": 13,
   "metadata": {
    "scrolled": true
   },
   "outputs": [],
   "source": [
    "def initialize_params(n, random=False):\n",
    "    \"\"\"\n",
    "    This function creates initial values:\n",
    "    * for w a vector of zeros of shape (1,n) [random=False] or a vector of normally distributed random values [random=True] \n",
    "    * for b set to 0.\n",
    "    \n",
    "    Argument:\n",
    "    n -- size of the w vector we want (number of features)\n",
    "    \n",
    "    Returns:\n",
    "    w -- initialized vector of shape (1,n)\n",
    "    b -- initialized scalar (corresponds to the bias)\n",
    "    \"\"\"\n",
    "    if random:\n",
    "        w = np.random.randn(*(1,n))\n",
    "    else:\n",
    "        w = np.zeros((1,n))\n",
    "    b = 0.0\n",
    "    \n",
    "    return w, b"
   ]
  },
  {
   "cell_type": "markdown",
   "metadata": {},
   "source": [
    "#### Optimisation"
   ]
  },
  {
   "cell_type": "code",
   "execution_count": null,
   "metadata": {
    "scrolled": true
   },
   "outputs": [],
   "source": [
    "def optimize(w, b, x_train, y_train, x_test, y_test, nepochs, alpha, cost_type=\"CE\"):\n",
    "    \"\"\"\n",
    "    This function optimizes w and b by running (batch) gradient descent. It starts with the given \n",
    "    weights as initial values and then iteratively updates the parameters for nepochs number of times.\n",
    "    Returns the trained parameters values as dictionary (keys \"w\" and \"b\") and various quantities \n",
    "    collected during learning also as dictionary: cost on training and test set (\"cost_train\", \"cost_test\"), \n",
    "    error rate on training and test set (\"error_train\", \"error_test\"), learning speed as length of dw \n",
    "    multiplied by alpha with key \"step_w\" and absolute value of db with key \"step_b\".\n",
    "    The output is provided in form of dictionaries (basically, to avoid handling too many variable names in \n",
    "    functional calls).\n",
    "    \n",
    "    Arguments:\n",
    "    w -- weights, a numpy array of size (1,n)\n",
    "    b -- bias, a scalar\n",
    "    x -- data of shape (n,m)\n",
    "    y -- true \"label\" vector (containing 0 or 1), of shape (1, m)\n",
    "    nepochs -- number of iterations of the optimization loop\n",
    "    alpha -- learning rate of the gradient descent update rule\n",
    "    cost_type -- cost function to use for the opimisation (CE: cross entropy, MSE: mean square error)\n",
    "    debug -- True to print the loss every 100 steps\n",
    "    \n",
    "    Returns:\n",
    "    params -- dictionary containing the weights w and bias b\n",
    "    learning_curves -- dictionary with various measures computed during the training useful for plotting \n",
    "    different learning curves.    \n",
    "    \"\"\"     \n",
    "    # The following lists are used for tracking the learning progress so that learning curves can be plotted.\n",
    "    # Append an according value in each epoch\n",
    "    epochs = []  # fill here the epoch id (the iteration index when looping over nepochs)\n",
    "    train_costs = [] # fill here the cost on the training set  \n",
    "    test_costs = [] # fill here the cost on the test set \n",
    "    train_errors = [] # fill here the error rate on the training set\n",
    "    test_errors = [] # fill here the error rate on the test set \n",
    "    stepsize_w = [] # fill here the lenght of the gradient of the weights vector multiplied with alpha (for the training set)\n",
    "    stepsize_b = [] # fill here the absolute value of derivative wr.t. the bias multiplied with alpha (for the training set)\n",
    "        \n",
    "    if cost_type==\"CE\":\n",
    "        step = step_CE #step_CE(w, b, X, Y) return w, b\n",
    "        cost = cost_CE #cost_CE(yhat, y) return cost\n",
    "    elif cost_type==\"MSE\":\n",
    "        step = step_MSE\n",
    "        cost = cost_MSE\n",
    "    else:\n",
    "        print(\"Cost type %s not supported.\"%cost_type)\n",
    "        return\n",
    "        \n",
    "    ### START YOUR CODE ###\n",
    "    for e in range(nepochs):\n",
    "        t_w, t_b = step(w, b, x_train, y_train)\n",
    "        w = w - alpha * t_w\n",
    "        b = b - alpha * t_b\n",
    "        epochs.append(e)\n",
    "        stepsize_w.append(alpha * t_w)\n",
    "        stepsize_b.append(alpha * t_b)\n",
    "        train_costs.append(cost(predict(w, b, x_train), y_train)) #predict(w, b, X, round=False):\n",
    "        test_costs.append(cost(predict(w, b, x_test), y_test))\n",
    "        print('--')\n",
    "        print('predict', predict(w, b, x_test))\n",
    "        print('cost', cost(predict(w, b, x_test), y_test))\n",
    "        print('--')\n",
    "        train_errors.append(error_rate(w, b, x_train, y_train))\n",
    "        test_errors.append(error_rate(w, b, x_test, y_test))\n",
    "    \n",
    "    ### END YOUR CODE ###\n",
    "    \n",
    "    params = {\"w\": w, \"b\": b}    \n",
    "    learning_curves = {}\n",
    "    learning_curves[\"epochs\"] = epochs\n",
    "    learning_curves[\"step_w\"] = stepsize_w\n",
    "    learning_curves[\"step_b\"] = stepsize_b\n",
    "    learning_curves[\"cost_train\"] = train_costs\n",
    "    learning_curves[\"cost_test\"] = test_costs\n",
    "    learning_curves[\"error_train\"] = train_errors\n",
    "    learning_curves[\"error_test\"] = test_errors\n",
    "        \n",
    "    print(\"Training error / cost : %6.4f / %6.4f\"%(train_errors[-1], train_costs[-1]))\n",
    "    print(\"Test error / cost : %6.4f / %6.4f\"%(test_errors[-1], test_costs[-1]))\n",
    "\n",
    "    return params, learning_curves"
   ]
  },
  {
   "cell_type": "markdown",
   "metadata": {},
   "source": [
    "### Run the Training for Specific Setting"
   ]
  },
  {
   "cell_type": "code",
   "execution_count": null,
   "metadata": {
    "scrolled": true
   },
   "outputs": [],
   "source": [
    "# target digit\n",
    "target = 5 \n",
    "learning_rate = 0.5\n",
    "nepochs = 20\n",
    "X_train = x_train\n",
    "Y_train = y_train==target\n",
    "X_test = x_test\n",
    "Y_test = y_test==target\n",
    "w,b = initialize_params(8*8)\n",
    "params, learning_curves = \\\n",
    "    optimize(w, b, X_train, Y_train, X_test, Y_test, nepochs=nepochs, \\\n",
    "                                 alpha = learning_rate, cost_type=\"MSE\")"
   ]
  },
  {
   "cell_type": "markdown",
   "metadata": {},
   "source": [
    "### Plot Learning Curves\n",
    "\n",
    "Cost <br>\n",
    "Error Rate <br>\n",
    "Learning Speed (Lenght of Parameter Change)<br>"
   ]
  },
  {
   "cell_type": "code",
   "execution_count": 16,
   "metadata": {
    "scrolled": false
   },
   "outputs": [
    {
     "data": {
      "image/png": "[encoded data removed]",
      "text/plain": [
       "<Figure size 432x288 with 1 Axes>"
      ]
     },
     "metadata": {},
     "output_type": "display_data"
    }
   ],
   "source": [
    "plt.semilogy(learning_curves[\"epochs\"], learning_curves[\"cost_train\"], label=\"train\")\n",
    "plt.semilogy(learning_curves[\"epochs\"], learning_curves[\"cost_test\"], label=\"test\")\n",
    "plt.ylabel('Cost')\n",
    "plt.xlabel('Epochs')\n",
    "xmax = learning_curves[\"epochs\"][-1]\n",
    "plt.axis([0,xmax,0.002,0.5])\n",
    "plt.legend()\n",
    "plt.show()"
   ]
  },
  {
   "cell_type": "code",
   "execution_count": 17,
   "metadata": {
    "scrolled": true
   },
   "outputs": [
    {
     "data": {
      "image/png": "[encoded data removed]",
      "text/plain": [
       "<Figure size 432x288 with 1 Axes>"
      ]
     },
     "metadata": {},
     "output_type": "display_data"
    }
   ],
   "source": [
    "plt.semilogy(learning_curves[\"epochs\"], learning_curves[\"error_train\"], label=\"train\")\n",
    "plt.semilogy(learning_curves[\"epochs\"], learning_curves[\"error_test\"], label=\"test\")\n",
    "plt.ylabel('Error')\n",
    "plt.xlabel('Epochs')\n",
    "xmax = learning_curves[\"epochs\"][-1]\n",
    "plt.axis([0,xmax,0.001,0.1])\n",
    "plt.legend()\n",
    "plt.show()"
   ]
  },
  {
   "cell_type": "code",
   "execution_count": 18,
   "metadata": {
    "scrolled": true
   },
   "outputs": [
    {
     "data": {
      "image/png": "[encoded data removed]",
      "text/plain": [
       "<Figure size 432x288 with 1 Axes>"
      ]
     },
     "metadata": {},
     "output_type": "display_data"
    }
   ],
   "source": [
    "plt.semilogy(learning_curves[\"epochs\"], learning_curves[\"step_w\"], label=\"w\")\n",
    "plt.semilogy(learning_curves[\"epochs\"], learning_curves[\"step_b\"], label=\"b\")\n",
    "plt.ylabel('Step Size')\n",
    "plt.xlabel('Epochs')\n",
    "xmax = learning_curves[\"epochs\"][-1]\n",
    "plt.axis([0,xmax,0.00001,0.2])\n",
    "plt.legend()\n",
    "plt.show()"
   ]
  },
  {
   "cell_type": "code",
   "execution_count": null,
   "metadata": {
    "scrolled": false
   },
   "outputs": [
    {
     "name": "stdout",
     "output_type": "stream",
     "text": [
      "320\n",
      "[  0   1   2   3   4   5   6   7   8  10  11  12  13  14  15  16  17  19\n",
      "  20  21  22  23  24  26  27  28  29  30  31  32  33  34  35  36  37  38\n",
      "  39  40  41  42  43  44  45  46  47  48  49  50  51  52  53  54  55  57\n",
      "  58  59  60  61  62  63  64  65  66  67  68  69  70  71  73  74  75  76\n",
      "  77  78  79  80  81  82  83  85  86  88  89  90  91  92  93  94  95  96\n",
      "  97  99 102 104 105 106 107 108 109 110 111 112 113 114 115 116 117 118\n",
      " 120 122 123 124 125 126 127 128 130 131 132 134 135 137 139 140 141 142\n",
      " 143 144 145 147 149 150 151 153 154 155 156 157 158 159 160 161 162 164\n",
      " 165 166 167 168 169 170 171 172 173 174 175 176 177 178 179 180 182 183\n",
      " 184 185 186 187 188 189 190 192 193 194 195 196 197 198 199 201 202 203\n",
      " 204 205 206 207 208 209 211 212 213 214 215 216 217 218 219 220 221 222\n",
      " 223 224 225 226 227 228 229 230 231 232 233 234 235 236 237 238 239 240\n",
      " 241 242 243 244 245 246 249 251 252 253 254 255 258 259 260 261 262 264\n",
      " 265 266 267 268 269 270 271 272 273 274 275 276 277 278 279 280 281 282\n",
      " 284 285 287 288 289 290 291 292 294 295 296 297 298 299 300 301 302 303\n",
      " 304 305 306 307 308 309 310 311 312 313 315 316 317 318 319 320 321 322\n",
      " 323 324 325 327 328 329 330 331 332 334 335 336 337 338 339 341 342 343\n",
      " 345 346 347 348 349 350 351 352 353 354 356 357 358 359]\n",
      "[[False False False False False False False False False False False False\n",
      "  False False False False False False False False False False False False\n",
      "  False False False False False False False False False False False False\n",
      "  False False False False False False False False False False False False\n",
      "  False False False False False False False False False False False False\n",
      "  False False False False False False False False False False False False\n",
      "  False False False False False False False False False False False False\n",
      "  False False False False False False False False False False False False\n",
      "  False False False False False False False False False False False False\n",
      "  False False False False False False False False False False False False\n",
      "  False False False False False False False False False False False False\n",
      "  False False False False False False False False False False False False\n",
      "  False False False False False False False False False False False False\n",
      "  False False False False False False False False False False False False\n",
      "  False False False False False False False False False False False False\n",
      "  False False False False False False False False False False False False\n",
      "  False False False False False False False False False False False False\n",
      "  False False False False False False False False False False False False\n",
      "  False False False False False False False False False False False False\n",
      "  False False False False False False False False False False False False\n",
      "  False False False False False False False False False False False False\n",
      "  False False False False False False False False False False False False\n",
      "  False False False False False False False False False False False False\n",
      "  False False False False False False False False False False False False\n",
      "  False False False False False False False False False False False False\n",
      "  False False False False False False False False False False False False\n",
      "  False False False False False False False False]]\n",
      "[[1. 1. 1. 1. 1. 1. 1. 1. 1. 1. 1. 1. 1. 1. 1. 1. 1. 1. 1. 1. 1. 1. 1. 1.\n",
      "  1. 1. 1. 1. 1. 1. 1. 1. 1. 1. 1. 1. 1. 1. 1. 1. 1. 1. 1. 1. 1. 1. 1. 1.\n",
      "  1. 1. 1. 1. 1. 1. 1. 1. 1. 1. 1. 1. 1. 1. 1. 1. 1. 1. 1. 1. 1. 1. 1. 1.\n",
      "  1. 1. 1. 1. 1. 1. 1. 1. 1. 1. 1. 1. 1. 1. 1. 1. 1. 1. 1. 1. 1. 1. 1. 1.\n",
      "  1. 1. 1. 1. 1. 1. 1. 1. 1. 1. 1. 1. 1. 1. 1. 1. 1. 1. 1. 1. 1. 1. 1. 1.\n",
      "  1. 1. 1. 1. 1. 1. 1. 1. 1. 1. 1. 1. 1. 1. 1. 1. 1. 1. 1. 1. 1. 1. 1. 1.\n",
      "  1. 1. 1. 1. 1. 1. 1. 1. 1. 1. 1. 1. 1. 1. 1. 1. 1. 1. 1. 1. 1. 1. 1. 1.\n",
      "  1. 1. 1. 1. 1. 1. 1. 1. 1. 1. 1. 1. 1. 1. 1. 1. 1. 1. 1. 1. 1. 1. 1. 1.\n",
      "  1. 1. 1. 1. 1. 1. 1. 1. 1. 1. 1. 1. 1. 1. 1. 1. 1. 1. 1. 1. 1. 1. 1. 1.\n",
      "  1. 1. 1. 1. 1. 1. 1. 1. 1. 1. 1. 1. 1. 1. 1. 1. 1. 1. 1. 1. 1. 1. 1. 1.\n",
      "  1. 1. 1. 1. 1. 1. 1. 1. 1. 1. 1. 1. 1. 1. 1. 1. 1. 1. 1. 1. 1. 1. 1. 1.\n",
      "  1. 1. 1. 1. 1. 1. 1. 1. 1. 1. 1. 1. 1. 1. 1. 1. 1. 1. 1. 1. 1. 1. 1. 1.\n",
      "  1. 1. 1. 1. 1. 1. 1. 1. 1. 1. 1. 1. 1. 1. 1. 1. 1. 1. 1. 1. 1. 1. 1. 1.\n",
      "  1. 1. 1. 1. 1. 1. 1. 1.]]\n",
      "[[8.77482904e-10 6.28957949e-09 3.70688082e-10 3.52437148e-08\n",
      "  2.29069181e-08 1.06717233e-07 1.83656908e-09 1.12243586e-09\n",
      "  1.43576843e-09 5.36281637e-10 6.06532897e-10 1.31640709e-08\n",
      "  6.28957949e-09 5.91413036e-09 1.19369191e-09 7.11349522e-09\n",
      "  3.00505902e-09 3.27753388e-10 1.41997473e-11 3.11616357e-08\n",
      "  3.48560289e-10 2.49839358e-09 6.85986857e-10 2.75523605e-08\n",
      "  3.00505902e-09 9.33188506e-10 4.91698340e-09 4.91698340e-09\n",
      "  2.34925488e-09 1.20696863e-07 9.43567832e-08 8.34279740e-08\n",
      "  3.00505902e-09 6.68886341e-09 2.49839358e-09 8.04534140e-09\n",
      "  9.43567832e-08 2.26549385e-10 2.15395163e-08 4.34747715e-09\n",
      "  3.39871259e-09 1.52691590e-09 8.87242654e-08 1.83656908e-09\n",
      "  2.62777264e-11 1.02912315e-08 7.03524556e-11 9.33188506e-10\n",
      "  3.11616357e-08 5.04268929e-10 5.49992025e-11 3.52437148e-08\n",
      "  3.19583040e-09 3.00505902e-09 2.02537400e-08 8.55608706e-09\n",
      "  2.82567552e-09 3.98605338e-08 1.39997709e-08 5.56109323e-09\n",
      "  2.65700011e-09 1.79078644e-08 9.43567832e-08 7.48186690e-11\n",
      "  7.29535638e-10 8.46196865e-11 1.12243586e-09 5.36281637e-10\n",
      "  3.39871259e-09 2.82567552e-09 9.92430489e-10 1.12243586e-09\n",
      "  1.23782570e-08 5.42246416e-08 1.72693723e-09 1.39997709e-08\n",
      "  5.76670062e-08 1.39997709e-08 6.28957949e-09 3.61447443e-09\n",
      "  1.36507782e-07 1.56595250e-10 3.48560289e-10 5.42246416e-08\n",
      "  2.15395163e-08 1.00346872e-07 7.37649865e-08 7.11349522e-09\n",
      "  3.74811057e-08 3.52437148e-08 1.68388753e-08 1.36507782e-07\n",
      "  7.56508411e-09 5.22913025e-09 2.13025783e-10 1.58336982e-08\n",
      "  6.52212077e-08 9.09925659e-09 1.13492005e-07 2.65700011e-09\n",
      "  9.67690837e-09 5.17160891e-11 3.31398823e-08 1.58336982e-08\n",
      "  2.59076545e-08 3.08188531e-10 1.43576843e-09 1.23782570e-08\n",
      "  1.06717233e-07 1.01780262e-10 4.74167182e-10 2.82567552e-09\n",
      "  4.91698340e-09 6.61528476e-11 3.08188531e-10 1.05543335e-09\n",
      "  2.65700011e-09 9.43567832e-08 4.62346980e-09 3.52437148e-08\n",
      "  5.70326621e-10 1.16393514e-08 9.43567832e-08 6.06532897e-10\n",
      "  1.72693723e-09 1.66536449e-10 3.27753388e-10 2.43611272e-08\n",
      "  4.62346980e-09 1.22420941e-10 9.92430489e-10 7.75849044e-10\n",
      "  5.91413036e-09 5.04268929e-10 6.45037670e-10 1.33521099e-11\n",
      "  6.06532897e-10 3.98605338e-08 3.11616357e-08 1.28359110e-07\n",
      "  6.68886341e-09 1.85699603e-07 3.52437148e-08 8.77482904e-10\n",
      "  6.45037670e-10 1.16393514e-08 8.25102583e-10 2.65700011e-09\n",
      "  5.56109323e-09 4.23910161e-08 8.65124497e-07 4.74167182e-10\n",
      "  4.08795956e-09 6.28957949e-09 3.57471458e-11 3.11616357e-08\n",
      "  5.70326621e-10 2.40931511e-10 1.48885240e-08 9.33188506e-10\n",
      "  1.19369191e-09 1.15113166e-10 7.84478386e-08 1.23782570e-08\n",
      "  2.15395163e-08 1.79078644e-08 6.28957949e-09 2.34925488e-09\n",
      "  3.39871259e-09 1.36507782e-07 2.56226663e-10 5.04268929e-10\n",
      "  1.36507782e-07 4.62346980e-09 3.39871259e-09 5.09877648e-08\n",
      "  1.43576843e-09 6.52212077e-08 6.28957949e-09 4.08795956e-09\n",
      "  1.79078644e-08 1.39997709e-08 1.52691590e-09 2.29069181e-08\n",
      "  4.08795956e-09 1.16393514e-08 7.84478386e-08 5.91413036e-09\n",
      "  1.28359110e-07 9.33188506e-10 3.31398823e-08 9.92430489e-10\n",
      "  4.08795956e-09 1.48885240e-08 2.34925488e-09 6.06532897e-10\n",
      "  1.12243586e-09 1.52691590e-09 4.08795956e-09 1.00346872e-07\n",
      "  8.25102583e-10 2.07715403e-09 1.06717233e-07 3.11616357e-08\n",
      "  1.72693723e-09 5.04268929e-10 5.84907391e-11 5.36281637e-10\n",
      "  2.43611272e-08 6.85986857e-10 3.61447443e-09 2.34925488e-09\n",
      "  4.62346980e-09 9.33188506e-10 2.49839358e-09 5.42246416e-08\n",
      "  1.05543335e-09 2.34925488e-09 2.49839358e-09 1.20696863e-07\n",
      "  1.58336982e-08 4.23910161e-08 8.55608706e-09 4.74167182e-10\n",
      "  1.20696863e-07 7.56508411e-09 5.70326621e-10 1.43576843e-09\n",
      "  3.27753388e-10 6.45037670e-10 3.31398823e-08 3.39871259e-09\n",
      "  5.56109323e-09 5.70326621e-10 1.16393514e-08 9.33188506e-10\n",
      "  3.11616357e-08 3.08188531e-10 6.13279039e-08 1.13492005e-07\n",
      "  3.98605338e-08 1.83656908e-09 3.00505902e-09 5.36281637e-10\n",
      "  1.68388753e-08 4.79441097e-08 3.08188531e-10 1.09445539e-08\n",
      "  1.30192640e-10 6.28957949e-09 3.94220624e-10 1.02912315e-08\n",
      "  6.85986857e-10 8.55608706e-09 4.50821420e-08 2.34925488e-09\n",
      "  2.34925488e-09 4.74167182e-10 3.08188531e-10 1.20696863e-07\n",
      "  1.83656908e-09 9.09925659e-09 1.72693723e-09 1.00346872e-07\n",
      "  3.48560289e-10 3.94220624e-10 2.00309456e-10 6.13279039e-08\n",
      "  1.31640709e-08 5.04268929e-10 9.67690837e-09 5.09877648e-08\n",
      "  8.87242654e-08 7.37649865e-08 3.94220624e-10 7.75849044e-10\n",
      "  1.01780262e-10 1.39997709e-08 5.70326621e-10 1.47247479e-10\n",
      "  6.28957949e-09 4.62346980e-09 7.11349522e-09 2.65700011e-09\n",
      "  3.19583040e-09 3.39871259e-09 1.52691590e-09 3.08188531e-10\n",
      "  3.61447443e-09 8.87242654e-08 3.84393357e-09 1.28359110e-07\n",
      "  1.43576843e-09 6.28957949e-09 1.47247479e-10 8.87242654e-08\n",
      "  5.22913025e-09 2.93014781e-08 1.39997709e-08 1.79078644e-08\n",
      "  3.74811057e-08 3.84393357e-09 1.20696863e-07 5.56109323e-09\n",
      "  2.15395163e-08 9.92430489e-10 5.42246416e-08 8.55608706e-09\n",
      "  6.45037670e-10 1.52691590e-09 9.09925659e-09 3.39871259e-09\n",
      "  3.11616357e-08 2.26549385e-10 2.65700011e-09 4.50821420e-08\n",
      "  5.76670062e-08 3.00505902e-09 2.02537400e-08 7.11349522e-09]]\n"
     ]
    }
   ],
   "source": [
    "Y_pred = predict(params['w'], params['b'], X_test, round=True)\n",
    "indices = np.where(Y_test!=Y_pred)[1]\n",
    "print(len(indices))\n",
    "print(indices)\n",
    "print(Y_test[:,indices])\n",
    "print(Y_pred[:,indices])\n",
    "print(predict(params['w'], params['b'], X_test[:,indices]))\n",
    "\n",
    "plot_digits(x_test, y_test, indices)"
   ]
  },
  {
   "cell_type": "markdown",
   "metadata": {},
   "source": [
    "### Plot the Trained Weights as 8x8 Image "
   ]
  },
  {
   "cell_type": "code",
   "execution_count": null,
   "metadata": {
    "scrolled": true
   },
   "outputs": [],
   "source": [
    "plt.imshow(np.reshape(params['w'], (8,8)), cmap=plt.cm.gray)\n",
    "np.set_printoptions(precision=3, formatter={'float': '{: 0.3f}'.format})\n",
    "\n",
    "print(np.reshape(params['w'], (8,8)))\n",
    "print(params['b'])"
   ]
  },
  {
   "cell_type": "markdown",
   "metadata": {},
   "source": [
    "### Analysis for all the Digits\n",
    "\n",
    "Run batch gradient descent independently for all the digits (0-9).<br>\n",
    "Plot the error rates (train and test) for the trained models against the digit in a single plot. <br>\n",
    "Which digit can be predicted very well - for which is the prediction rather bad? <br>\n",
    "Plot the digits and interpret what you see."
   ]
  },
  {
   "cell_type": "code",
   "execution_count": null,
   "metadata": {
    "scrolled": true
   },
   "outputs": [],
   "source": [
    "### START YOUR CODE ###\n",
    "\n",
    "\n",
    "\n",
    "### END YOUR CODE ###"
   ]
  },
  {
   "cell_type": "code",
   "execution_count": null,
   "metadata": {},
   "outputs": [],
   "source": []
  }
 ],
 "metadata": {
  "kernelspec": {
   "display_name": "Python 3",
   "language": "python",
   "name": "python3"
  },
  "language_info": {
   "codemirror_mode": {
    "name": "ipython",
    "version": 3
   },
   "file_extension": ".py",
   "mimetype": "text/x-python",
   "name": "python",
   "nbconvert_exporter": "python",
   "pygments_lexer": "ipython3",
   "version": "3.6.4"
  }
 },
 "nbformat": 4,
 "nbformat_minor": 2
}
